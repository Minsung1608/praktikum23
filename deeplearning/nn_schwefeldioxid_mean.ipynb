{
 "cells": [
  {
   "cell_type": "code",
   "execution_count": 1,
   "id": "419a6381-9bcb-41c5-81db-e744e53e2574",
   "metadata": {
    "tags": []
   },
   "outputs": [
    {
     "data": {
      "text/html": [
       "<div>\n",
       "<style scoped>\n",
       "    .dataframe tbody tr th:only-of-type {\n",
       "        vertical-align: middle;\n",
       "    }\n",
       "\n",
       "    .dataframe tbody tr th {\n",
       "        vertical-align: top;\n",
       "    }\n",
       "\n",
       "    .dataframe thead th {\n",
       "        text-align: right;\n",
       "    }\n",
       "</style>\n",
       "<table border=\"1\" class=\"dataframe\">\n",
       "  <thead>\n",
       "    <tr style=\"text-align: right;\">\n",
       "      <th></th>\n",
       "      <th>Unnamed: 0_x</th>\n",
       "      <th>Messzeit</th>\n",
       "      <th>Feinstaub (µg/m3)</th>\n",
       "      <th>Schwefeldioxid (µg/m3)</th>\n",
       "      <th>Stickstoffdioxid (µg/m3)</th>\n",
       "      <th>Stickstoffmonoxid (µg/m3)</th>\n",
       "      <th>Unnamed: 0_y</th>\n",
       "      <th>Temperatur (°C)</th>\n",
       "      <th>rel. Luftfeuchte (%)</th>\n",
       "      <th>Windgeschwindigkeit (m/s)</th>\n",
       "      <th>Windrichtung (°)</th>\n",
       "      <th>Luftdruck (hPa)</th>\n",
       "      <th>Schwefeldioxid Mittelwert</th>\n",
       "    </tr>\n",
       "  </thead>\n",
       "  <tbody>\n",
       "    <tr>\n",
       "      <th>2555</th>\n",
       "      <td>2556</td>\n",
       "      <td>01.01.2019</td>\n",
       "      <td>20.0</td>\n",
       "      <td>3.0</td>\n",
       "      <td>11.0</td>\n",
       "      <td>2.0</td>\n",
       "      <td>2556</td>\n",
       "      <td>6.7</td>\n",
       "      <td>77.3</td>\n",
       "      <td>5.1</td>\n",
       "      <td>292.0</td>\n",
       "      <td>1018.3</td>\n",
       "      <td>4.857143</td>\n",
       "    </tr>\n",
       "  </tbody>\n",
       "</table>\n",
       "</div>"
      ],
      "text/plain": [
       "      Unnamed: 0_x    Messzeit  Feinstaub (µg/m3)  Schwefeldioxid (µg/m3)  \\\n",
       "2555          2556  01.01.2019               20.0                     3.0   \n",
       "\n",
       "      Stickstoffdioxid (µg/m3)  Stickstoffmonoxid (µg/m3)  Unnamed: 0_y  \\\n",
       "2555                      11.0                        2.0          2556   \n",
       "\n",
       "      Temperatur (°C)  rel. Luftfeuchte (%)  Windgeschwindigkeit (m/s)  \\\n",
       "2555              6.7                  77.3                        5.1   \n",
       "\n",
       "      Windrichtung (°)  Luftdruck (hPa)  Schwefeldioxid Mittelwert  \n",
       "2555             292.0           1018.3                   4.857143  "
      ]
     },
     "execution_count": 1,
     "metadata": {},
     "output_type": "execute_result"
    }
   ],
   "source": [
    "from sklearn import preprocessing\n",
    "import pandas as pd \n",
    "df1=pd.read_csv(\"billwerder_schadstoffe_2012-2023.csv\")\n",
    "df2=pd.read_csv(\"billwerder_wetter_2012-2023.csv\")\n",
    "df=pd.merge(df1, df2, on=\"Messzeit\")\n",
    "rolling_mean = df['Schwefeldioxid (µg/m3)'].rolling(window=7, min_periods=1).mean()\n",
    "df['Schwefeldioxid Mittelwert'] = rolling_mean\n",
    "df.loc[df['Messzeit'] == \"01.01.2019\"]"
   ]
  },
  {
   "cell_type": "code",
   "execution_count": 2,
   "id": "763f91c1-4659-4e10-a45a-d0c3b3629c0f",
   "metadata": {
    "tags": []
   },
   "outputs": [
    {
     "data": {
      "text/html": [
       "<div>\n",
       "<style scoped>\n",
       "    .dataframe tbody tr th:only-of-type {\n",
       "        vertical-align: middle;\n",
       "    }\n",
       "\n",
       "    .dataframe tbody tr th {\n",
       "        vertical-align: top;\n",
       "    }\n",
       "\n",
       "    .dataframe thead th {\n",
       "        text-align: right;\n",
       "    }\n",
       "</style>\n",
       "<table border=\"1\" class=\"dataframe\">\n",
       "  <thead>\n",
       "    <tr style=\"text-align: right;\">\n",
       "      <th></th>\n",
       "      <th>Unnamed: 0_x</th>\n",
       "      <th>Messzeit</th>\n",
       "      <th>Feinstaub (µg/m3)</th>\n",
       "      <th>Schwefeldioxid (µg/m3)</th>\n",
       "      <th>Stickstoffdioxid (µg/m3)</th>\n",
       "      <th>Stickstoffmonoxid (µg/m3)</th>\n",
       "      <th>Unnamed: 0_y</th>\n",
       "      <th>Temperatur (°C)</th>\n",
       "      <th>rel. Luftfeuchte (%)</th>\n",
       "      <th>Windgeschwindigkeit (m/s)</th>\n",
       "      <th>Windrichtung (°)</th>\n",
       "      <th>Luftdruck (hPa)</th>\n",
       "      <th>Schwefeldioxid Mittelwert</th>\n",
       "    </tr>\n",
       "  </thead>\n",
       "  <tbody>\n",
       "    <tr>\n",
       "      <th>2920</th>\n",
       "      <td>2921</td>\n",
       "      <td>01.01.2020</td>\n",
       "      <td>57.0</td>\n",
       "      <td>3.0</td>\n",
       "      <td>34.0</td>\n",
       "      <td>7.0</td>\n",
       "      <td>2921</td>\n",
       "      <td>0.6</td>\n",
       "      <td>95.7</td>\n",
       "      <td>1.1</td>\n",
       "      <td>200.0</td>\n",
       "      <td>1031.4</td>\n",
       "      <td>5.571429</td>\n",
       "    </tr>\n",
       "  </tbody>\n",
       "</table>\n",
       "</div>"
      ],
      "text/plain": [
       "      Unnamed: 0_x    Messzeit  Feinstaub (µg/m3)  Schwefeldioxid (µg/m3)  \\\n",
       "2920          2921  01.01.2020               57.0                     3.0   \n",
       "\n",
       "      Stickstoffdioxid (µg/m3)  Stickstoffmonoxid (µg/m3)  Unnamed: 0_y  \\\n",
       "2920                      34.0                        7.0          2921   \n",
       "\n",
       "      Temperatur (°C)  rel. Luftfeuchte (%)  Windgeschwindigkeit (m/s)  \\\n",
       "2920              0.6                  95.7                        1.1   \n",
       "\n",
       "      Windrichtung (°)  Luftdruck (hPa)  Schwefeldioxid Mittelwert  \n",
       "2920             200.0           1031.4                   5.571429  "
      ]
     },
     "execution_count": 2,
     "metadata": {},
     "output_type": "execute_result"
    }
   ],
   "source": [
    "df.loc[df['Messzeit'] == \"01.01.2020\"]"
   ]
  },
  {
   "cell_type": "code",
   "execution_count": 3,
   "id": "dfcdb212-2b7d-4f9b-ab3e-7d9a1aa4718f",
   "metadata": {},
   "outputs": [],
   "source": [
    "df_train = df.iloc[:2555,:]\n",
    "df_val = df.iloc[2555:2920,:]\n",
    "df_test = df.iloc[2920:,:]"
   ]
  },
  {
   "cell_type": "code",
   "execution_count": 4,
   "id": "e238d808-9246-42b7-8196-95b0da056cff",
   "metadata": {
    "tags": []
   },
   "outputs": [
    {
     "data": {
      "text/html": [
       "<div>\n",
       "<style scoped>\n",
       "    .dataframe tbody tr th:only-of-type {\n",
       "        vertical-align: middle;\n",
       "    }\n",
       "\n",
       "    .dataframe tbody tr th {\n",
       "        vertical-align: top;\n",
       "    }\n",
       "\n",
       "    .dataframe thead th {\n",
       "        text-align: right;\n",
       "    }\n",
       "</style>\n",
       "<table border=\"1\" class=\"dataframe\">\n",
       "  <thead>\n",
       "    <tr style=\"text-align: right;\">\n",
       "      <th></th>\n",
       "      <th>Unnamed: 0_x</th>\n",
       "      <th>Messzeit</th>\n",
       "      <th>Feinstaub (µg/m3)</th>\n",
       "      <th>Schwefeldioxid (µg/m3)</th>\n",
       "      <th>Stickstoffdioxid (µg/m3)</th>\n",
       "      <th>Stickstoffmonoxid (µg/m3)</th>\n",
       "      <th>Unnamed: 0_y</th>\n",
       "      <th>Temperatur (°C)</th>\n",
       "      <th>rel. Luftfeuchte (%)</th>\n",
       "      <th>Windgeschwindigkeit (m/s)</th>\n",
       "      <th>Windrichtung (°)</th>\n",
       "      <th>Luftdruck (hPa)</th>\n",
       "      <th>Schwefeldioxid Mittelwert</th>\n",
       "    </tr>\n",
       "  </thead>\n",
       "  <tbody>\n",
       "    <tr>\n",
       "      <th>2555</th>\n",
       "      <td>2556</td>\n",
       "      <td>01.01.2019</td>\n",
       "      <td>20.0</td>\n",
       "      <td>3.0</td>\n",
       "      <td>11.0</td>\n",
       "      <td>2.0</td>\n",
       "      <td>2556</td>\n",
       "      <td>6.7</td>\n",
       "      <td>77.3</td>\n",
       "      <td>5.1</td>\n",
       "      <td>292.0</td>\n",
       "      <td>1018.3</td>\n",
       "      <td>4.857143</td>\n",
       "    </tr>\n",
       "    <tr>\n",
       "      <th>2556</th>\n",
       "      <td>2557</td>\n",
       "      <td>02.01.2019</td>\n",
       "      <td>11.0</td>\n",
       "      <td>3.0</td>\n",
       "      <td>18.0</td>\n",
       "      <td>2.0</td>\n",
       "      <td>2557</td>\n",
       "      <td>3.4</td>\n",
       "      <td>55.8</td>\n",
       "      <td>4.6</td>\n",
       "      <td>324.0</td>\n",
       "      <td>1028.5</td>\n",
       "      <td>4.428571</td>\n",
       "    </tr>\n",
       "    <tr>\n",
       "      <th>2557</th>\n",
       "      <td>2558</td>\n",
       "      <td>03.01.2019</td>\n",
       "      <td>17.0</td>\n",
       "      <td>4.0</td>\n",
       "      <td>56.0</td>\n",
       "      <td>42.0</td>\n",
       "      <td>2558</td>\n",
       "      <td>0.7</td>\n",
       "      <td>78.9</td>\n",
       "      <td>1.7</td>\n",
       "      <td>304.0</td>\n",
       "      <td>1034.7</td>\n",
       "      <td>3.857143</td>\n",
       "    </tr>\n",
       "    <tr>\n",
       "      <th>2558</th>\n",
       "      <td>2559</td>\n",
       "      <td>04.01.2019</td>\n",
       "      <td>10.0</td>\n",
       "      <td>3.0</td>\n",
       "      <td>34.0</td>\n",
       "      <td>5.0</td>\n",
       "      <td>2559</td>\n",
       "      <td>4.3</td>\n",
       "      <td>94.9</td>\n",
       "      <td>3.1</td>\n",
       "      <td>294.0</td>\n",
       "      <td>1028.3</td>\n",
       "      <td>3.857143</td>\n",
       "    </tr>\n",
       "    <tr>\n",
       "      <th>2559</th>\n",
       "      <td>2560</td>\n",
       "      <td>05.01.2019</td>\n",
       "      <td>13.0</td>\n",
       "      <td>3.0</td>\n",
       "      <td>19.0</td>\n",
       "      <td>2.0</td>\n",
       "      <td>2560</td>\n",
       "      <td>7.3</td>\n",
       "      <td>95.5</td>\n",
       "      <td>3.2</td>\n",
       "      <td>313.0</td>\n",
       "      <td>1022.1</td>\n",
       "      <td>3.142857</td>\n",
       "    </tr>\n",
       "    <tr>\n",
       "      <th>...</th>\n",
       "      <td>...</td>\n",
       "      <td>...</td>\n",
       "      <td>...</td>\n",
       "      <td>...</td>\n",
       "      <td>...</td>\n",
       "      <td>...</td>\n",
       "      <td>...</td>\n",
       "      <td>...</td>\n",
       "      <td>...</td>\n",
       "      <td>...</td>\n",
       "      <td>...</td>\n",
       "      <td>...</td>\n",
       "      <td>...</td>\n",
       "    </tr>\n",
       "    <tr>\n",
       "      <th>2915</th>\n",
       "      <td>2916</td>\n",
       "      <td>27.12.2019</td>\n",
       "      <td>7.0</td>\n",
       "      <td>3.0</td>\n",
       "      <td>27.0</td>\n",
       "      <td>8.0</td>\n",
       "      <td>2916</td>\n",
       "      <td>2.3</td>\n",
       "      <td>87.3</td>\n",
       "      <td>1.8</td>\n",
       "      <td>41.0</td>\n",
       "      <td>1030.3</td>\n",
       "      <td>3.857143</td>\n",
       "    </tr>\n",
       "    <tr>\n",
       "      <th>2916</th>\n",
       "      <td>2917</td>\n",
       "      <td>28.12.2019</td>\n",
       "      <td>11.0</td>\n",
       "      <td>3.0</td>\n",
       "      <td>32.0</td>\n",
       "      <td>23.0</td>\n",
       "      <td>2917</td>\n",
       "      <td>-0.8</td>\n",
       "      <td>91.1</td>\n",
       "      <td>1.1</td>\n",
       "      <td>148.0</td>\n",
       "      <td>1040.8</td>\n",
       "      <td>3.857143</td>\n",
       "    </tr>\n",
       "    <tr>\n",
       "      <th>2917</th>\n",
       "      <td>2918</td>\n",
       "      <td>29.12.2019</td>\n",
       "      <td>10.0</td>\n",
       "      <td>3.0</td>\n",
       "      <td>22.0</td>\n",
       "      <td>2.0</td>\n",
       "      <td>2918</td>\n",
       "      <td>-0.1</td>\n",
       "      <td>80.0</td>\n",
       "      <td>1.8</td>\n",
       "      <td>181.0</td>\n",
       "      <td>1035.6</td>\n",
       "      <td>3.857143</td>\n",
       "    </tr>\n",
       "    <tr>\n",
       "      <th>2918</th>\n",
       "      <td>2919</td>\n",
       "      <td>30.12.2019</td>\n",
       "      <td>12.0</td>\n",
       "      <td>20.0</td>\n",
       "      <td>29.0</td>\n",
       "      <td>2.0</td>\n",
       "      <td>2919</td>\n",
       "      <td>7.4</td>\n",
       "      <td>29.7</td>\n",
       "      <td>2.5</td>\n",
       "      <td>236.0</td>\n",
       "      <td>1025.0</td>\n",
       "      <td>5.714286</td>\n",
       "    </tr>\n",
       "    <tr>\n",
       "      <th>2919</th>\n",
       "      <td>2920</td>\n",
       "      <td>31.12.2019</td>\n",
       "      <td>23.0</td>\n",
       "      <td>3.0</td>\n",
       "      <td>29.0</td>\n",
       "      <td>2.0</td>\n",
       "      <td>2920</td>\n",
       "      <td>6.0</td>\n",
       "      <td>83.9</td>\n",
       "      <td>2.5</td>\n",
       "      <td>288.0</td>\n",
       "      <td>1028.2</td>\n",
       "      <td>5.571429</td>\n",
       "    </tr>\n",
       "  </tbody>\n",
       "</table>\n",
       "<p>365 rows × 13 columns</p>\n",
       "</div>"
      ],
      "text/plain": [
       "      Unnamed: 0_x    Messzeit  Feinstaub (µg/m3)  Schwefeldioxid (µg/m3)  \\\n",
       "2555          2556  01.01.2019               20.0                     3.0   \n",
       "2556          2557  02.01.2019               11.0                     3.0   \n",
       "2557          2558  03.01.2019               17.0                     4.0   \n",
       "2558          2559  04.01.2019               10.0                     3.0   \n",
       "2559          2560  05.01.2019               13.0                     3.0   \n",
       "...            ...         ...                ...                     ...   \n",
       "2915          2916  27.12.2019                7.0                     3.0   \n",
       "2916          2917  28.12.2019               11.0                     3.0   \n",
       "2917          2918  29.12.2019               10.0                     3.0   \n",
       "2918          2919  30.12.2019               12.0                    20.0   \n",
       "2919          2920  31.12.2019               23.0                     3.0   \n",
       "\n",
       "      Stickstoffdioxid (µg/m3)  Stickstoffmonoxid (µg/m3)  Unnamed: 0_y  \\\n",
       "2555                      11.0                        2.0          2556   \n",
       "2556                      18.0                        2.0          2557   \n",
       "2557                      56.0                       42.0          2558   \n",
       "2558                      34.0                        5.0          2559   \n",
       "2559                      19.0                        2.0          2560   \n",
       "...                        ...                        ...           ...   \n",
       "2915                      27.0                        8.0          2916   \n",
       "2916                      32.0                       23.0          2917   \n",
       "2917                      22.0                        2.0          2918   \n",
       "2918                      29.0                        2.0          2919   \n",
       "2919                      29.0                        2.0          2920   \n",
       "\n",
       "      Temperatur (°C)  rel. Luftfeuchte (%)  Windgeschwindigkeit (m/s)  \\\n",
       "2555              6.7                  77.3                        5.1   \n",
       "2556              3.4                  55.8                        4.6   \n",
       "2557              0.7                  78.9                        1.7   \n",
       "2558              4.3                  94.9                        3.1   \n",
       "2559              7.3                  95.5                        3.2   \n",
       "...               ...                   ...                        ...   \n",
       "2915              2.3                  87.3                        1.8   \n",
       "2916             -0.8                  91.1                        1.1   \n",
       "2917             -0.1                  80.0                        1.8   \n",
       "2918              7.4                  29.7                        2.5   \n",
       "2919              6.0                  83.9                        2.5   \n",
       "\n",
       "      Windrichtung (°)  Luftdruck (hPa)  Schwefeldioxid Mittelwert  \n",
       "2555             292.0           1018.3                   4.857143  \n",
       "2556             324.0           1028.5                   4.428571  \n",
       "2557             304.0           1034.7                   3.857143  \n",
       "2558             294.0           1028.3                   3.857143  \n",
       "2559             313.0           1022.1                   3.142857  \n",
       "...                ...              ...                        ...  \n",
       "2915              41.0           1030.3                   3.857143  \n",
       "2916             148.0           1040.8                   3.857143  \n",
       "2917             181.0           1035.6                   3.857143  \n",
       "2918             236.0           1025.0                   5.714286  \n",
       "2919             288.0           1028.2                   5.571429  \n",
       "\n",
       "[365 rows x 13 columns]"
      ]
     },
     "execution_count": 4,
     "metadata": {},
     "output_type": "execute_result"
    }
   ],
   "source": [
    "df_val"
   ]
  },
  {
   "cell_type": "code",
   "execution_count": 5,
   "id": "a522cb96-4747-4b4b-83ec-405e08f19a36",
   "metadata": {},
   "outputs": [],
   "source": [
    "df_train = df_train.dropna()\n",
    "df_val = df_val.dropna()\n",
    "df_test = df_test.dropna()"
   ]
  },
  {
   "cell_type": "code",
   "execution_count": 6,
   "id": "5823d51d-6b83-4129-b79d-b10cde415883",
   "metadata": {},
   "outputs": [],
   "source": [
    "x_train = df_train.drop(columns=['Feinstaub (µg/m3)', 'Messzeit', 'Unnamed: 0_x', 'Stickstoffdioxid (µg/m3)', 'Stickstoffmonoxid (µg/m3)', 'Schwefeldioxid (µg/m3)', 'Unnamed: 0_y'])\n",
    "y_train = df_train['Schwefeldioxid (µg/m3)']\n",
    "x_val = df_train.drop(columns=['Feinstaub (µg/m3)', 'Messzeit', 'Unnamed: 0_x', 'Stickstoffdioxid (µg/m3)', 'Stickstoffmonoxid (µg/m3)', 'Schwefeldioxid (µg/m3)', 'Unnamed: 0_y'])\n",
    "y_val = df_train['Schwefeldioxid (µg/m3)']\n",
    "x_test = df_test.drop(columns=['Feinstaub (µg/m3)', 'Messzeit', 'Unnamed: 0_x', 'Stickstoffdioxid (µg/m3)', 'Stickstoffmonoxid (µg/m3)', 'Schwefeldioxid (µg/m3)', 'Unnamed: 0_y'])\n",
    "y_test = df_test['Schwefeldioxid (µg/m3)']"
   ]
  },
  {
   "cell_type": "code",
   "execution_count": 7,
   "id": "8d1625de-e845-4b56-bc58-d22c43aa32f1",
   "metadata": {},
   "outputs": [],
   "source": [
    "x_train = preprocessing.normalize(x_train, norm='l2')\n",
    "\n",
    "x_val = preprocessing.normalize(x_val, norm='l2')\n",
    "\n",
    "x_test = preprocessing.normalize(x_test, norm='l2')\n"
   ]
  },
  {
   "cell_type": "code",
   "execution_count": 8,
   "id": "59372186-ae20-4841-b48e-6f032b4a2a0f",
   "metadata": {},
   "outputs": [
    {
     "data": {
      "text/plain": [
       "array([[0.00791348, 0.08338106, 0.00299168, 0.23450922, 0.96843624,\n",
       "        0.01061564],\n",
       "       [0.00544754, 0.08200497, 0.00505843, 0.20525562, 0.97520741,\n",
       "        0.0077822 ],\n",
       "       [0.00512975, 0.07684946, 0.00503296, 0.23519421, 0.96884526,\n",
       "        0.00806564],\n",
       "       ...,\n",
       "       [0.00664037, 0.09040387, 0.00275101, 0.22766977, 0.96949376,\n",
       "        0.00487864],\n",
       "       [0.00680222, 0.07994934, 0.00382042, 0.28606582, 0.95482621,\n",
       "        0.00452594],\n",
       "       [0.00685843, 0.09000512, 0.00159717, 0.24145425, 0.96619279,\n",
       "        0.00456334]])"
      ]
     },
     "execution_count": 8,
     "metadata": {},
     "output_type": "execute_result"
    }
   ],
   "source": [
    "x_train"
   ]
  },
  {
   "cell_type": "code",
   "execution_count": 9,
   "id": "226c141d-440f-441b-bf33-74cb854bac16",
   "metadata": {
    "tags": []
   },
   "outputs": [],
   "source": [
    "import seaborn as sns\n",
    "import matplotlib.pyplot as plt\n",
    "\n",
    "def plot_history(metrics):\n",
    "    history_df = pd.DataFrame.from_dict(history.history)\n",
    "    sns.lineplot(data=history_df[metrics])\n",
    "    plt.xlabel(\"epochs\")\n",
    "    plt.ylabel(\"RMSE\")"
   ]
  },
  {
   "cell_type": "code",
   "execution_count": 10,
   "id": "be63d4e0-2678-454e-b311-457660c1ba1d",
   "metadata": {
    "tags": []
   },
   "outputs": [
    {
     "name": "stderr",
     "output_type": "stream",
     "text": [
      "2023-07-06 13:49:11.491294: I tensorflow/core/platform/cpu_feature_guard.cc:193] This TensorFlow binary is optimized with oneAPI Deep Neural Network Library (oneDNN) to use the following CPU instructions in performance-critical operations:  SSE4.1 SSE4.2 AVX AVX2 FMA\n",
      "To enable them in other operations, rebuild TensorFlow with the appropriate compiler flags.\n"
     ]
    }
   ],
   "source": [
    "from tensorflow.keras.callbacks import EarlyStopping\n",
    "\n",
    "earlystopper = EarlyStopping(\n",
    "    monitor='val_loss',\n",
    "    patience=10\n",
    "    )"
   ]
  },
  {
   "cell_type": "code",
   "execution_count": 11,
   "id": "6db890c3-77f7-4b5c-a3d5-a128699bb1f7",
   "metadata": {},
   "outputs": [
    {
     "name": "stderr",
     "output_type": "stream",
     "text": [
      "2023-07-06 13:49:13.733557: W tensorflow/stream_executor/platform/default/dso_loader.cc:64] Could not load dynamic library 'libcuda.so.1'; dlerror: libcuda.so.1: cannot open shared object file: No such file or directory\n",
      "2023-07-06 13:49:13.733584: W tensorflow/stream_executor/cuda/cuda_driver.cc:263] failed call to cuInit: UNKNOWN ERROR (303)\n",
      "2023-07-06 13:49:13.733598: I tensorflow/stream_executor/cuda/cuda_diagnostics.cc:156] kernel driver does not appear to be running on this host (l40052.lvt.dkrz.de): /proc/driver/nvidia/version does not exist\n",
      "2023-07-06 13:49:13.733744: I tensorflow/core/platform/cpu_feature_guard.cc:193] This TensorFlow binary is optimized with oneAPI Deep Neural Network Library (oneDNN) to use the following CPU instructions in performance-critical operations:  SSE4.1 SSE4.2 AVX AVX2 FMA\n",
      "To enable them in other operations, rebuild TensorFlow with the appropriate compiler flags.\n"
     ]
    }
   ],
   "source": [
    "from tensorflow import keras\n",
    "from tensorflow.keras.models import Sequential\n",
    "from tensorflow.keras.layers import BatchNormalization\n",
    "\n",
    "def create_nn():\n",
    "    inputs = keras.layers.Input(shape=(x_train.shape[1],), name='input')\n",
    "\n",
    "    layers_dense = keras.layers.BatchNormalization()(inputs)\n",
    "    layers_dense = keras.layers.Dense(100, 'relu')(layers_dense)\n",
    "    layers_dense = keras.layers.Dense(50, 'relu')(layers_dense)\n",
    "\n",
    "    outputs = keras.layers.Dense(1)(layers_dense)\n",
    "\n",
    "    return keras.Model(inputs=inputs, outputs=outputs, name=\"model_batchnorm\")\n",
    "model=create_nn()"
   ]
  },
  {
   "cell_type": "code",
   "execution_count": 12,
   "id": "d6d19b97-d0e6-4a70-99ce-7d52aa9ea49a",
   "metadata": {},
   "outputs": [],
   "source": [
    "def compile_model(model):\n",
    "    model.compile(optimizer='adam',\n",
    "                  loss='mse',\n",
    "                  metrics=[keras.metrics.RootMeanSquaredError()])\n",
    "compile_model(model)"
   ]
  },
  {
   "cell_type": "code",
   "execution_count": 13,
   "id": "0c23ebe9-98be-4000-bdc3-a249995f129a",
   "metadata": {
    "jupyter": {
     "source_hidden": true
    },
    "tags": []
   },
   "outputs": [
    {
     "name": "stdout",
     "output_type": "stream",
     "text": [
      "Model: \"model_batchnorm\"\n",
      "_________________________________________________________________\n",
      " Layer (type)                Output Shape              Param #   \n",
      "=================================================================\n",
      " input (InputLayer)          [(None, 6)]               0         \n",
      "                                                                 \n",
      " batch_normalization (BatchN  (None, 6)                24        \n",
      " ormalization)                                                   \n",
      "                                                                 \n",
      " dense (Dense)               (None, 100)               700       \n",
      "                                                                 \n",
      " dense_1 (Dense)             (None, 50)                5050      \n",
      "                                                                 \n",
      " dense_2 (Dense)             (None, 1)                 51        \n",
      "                                                                 \n",
      "=================================================================\n",
      "Total params: 5,825\n",
      "Trainable params: 5,813\n",
      "Non-trainable params: 12\n",
      "_________________________________________________________________\n"
     ]
    }
   ],
   "source": [
    "compile_model(model)\n",
    "model.summary()"
   ]
  },
  {
   "cell_type": "code",
   "execution_count": 14,
   "id": "eb6bdec1-2974-4b56-b086-45ef8ef6cda8",
   "metadata": {
    "tags": []
   },
   "outputs": [
    {
     "name": "stdout",
     "output_type": "stream",
     "text": [
      "Epoch 1/1000\n",
      "298/298 - 1s - loss: 8.4665 - root_mean_squared_error: 2.9097 - val_loss: 6.4506 - val_root_mean_squared_error: 2.5398 - 716ms/epoch - 2ms/step\n",
      "Epoch 2/1000\n",
      "298/298 - 0s - loss: 5.2184 - root_mean_squared_error: 2.2844 - val_loss: 4.7854 - val_root_mean_squared_error: 2.1876 - 311ms/epoch - 1ms/step\n",
      "Epoch 3/1000\n",
      "298/298 - 0s - loss: 4.7093 - root_mean_squared_error: 2.1701 - val_loss: 4.4818 - val_root_mean_squared_error: 2.1170 - 302ms/epoch - 1ms/step\n",
      "Epoch 4/1000\n",
      "298/298 - 0s - loss: 4.5494 - root_mean_squared_error: 2.1329 - val_loss: 3.8743 - val_root_mean_squared_error: 1.9683 - 312ms/epoch - 1ms/step\n",
      "Epoch 5/1000\n",
      "298/298 - 0s - loss: 4.4560 - root_mean_squared_error: 2.1109 - val_loss: 3.7890 - val_root_mean_squared_error: 1.9465 - 309ms/epoch - 1ms/step\n",
      "Epoch 6/1000\n",
      "298/298 - 0s - loss: 4.4755 - root_mean_squared_error: 2.1155 - val_loss: 3.8373 - val_root_mean_squared_error: 1.9589 - 306ms/epoch - 1ms/step\n",
      "Epoch 7/1000\n",
      "298/298 - 0s - loss: 4.4763 - root_mean_squared_error: 2.1157 - val_loss: 3.7120 - val_root_mean_squared_error: 1.9267 - 309ms/epoch - 1ms/step\n",
      "Epoch 8/1000\n",
      "298/298 - 0s - loss: 4.4498 - root_mean_squared_error: 2.1094 - val_loss: 3.6751 - val_root_mean_squared_error: 1.9171 - 315ms/epoch - 1ms/step\n",
      "Epoch 9/1000\n",
      "298/298 - 0s - loss: 4.3609 - root_mean_squared_error: 2.0883 - val_loss: 3.6723 - val_root_mean_squared_error: 1.9163 - 311ms/epoch - 1ms/step\n",
      "Epoch 10/1000\n",
      "298/298 - 0s - loss: 4.4969 - root_mean_squared_error: 2.1206 - val_loss: 3.7384 - val_root_mean_squared_error: 1.9335 - 309ms/epoch - 1ms/step\n",
      "Epoch 11/1000\n",
      "298/298 - 0s - loss: 4.2219 - root_mean_squared_error: 2.0547 - val_loss: 3.6381 - val_root_mean_squared_error: 1.9074 - 311ms/epoch - 1ms/step\n",
      "Epoch 12/1000\n",
      "298/298 - 0s - loss: 4.3828 - root_mean_squared_error: 2.0935 - val_loss: 3.7081 - val_root_mean_squared_error: 1.9256 - 310ms/epoch - 1ms/step\n",
      "Epoch 13/1000\n",
      "298/298 - 0s - loss: 4.5846 - root_mean_squared_error: 2.1412 - val_loss: 3.7254 - val_root_mean_squared_error: 1.9301 - 310ms/epoch - 1ms/step\n",
      "Epoch 14/1000\n",
      "298/298 - 0s - loss: 4.3450 - root_mean_squared_error: 2.0845 - val_loss: 3.5968 - val_root_mean_squared_error: 1.8965 - 308ms/epoch - 1ms/step\n",
      "Epoch 15/1000\n",
      "298/298 - 0s - loss: 4.3015 - root_mean_squared_error: 2.0740 - val_loss: 3.8037 - val_root_mean_squared_error: 1.9503 - 310ms/epoch - 1ms/step\n",
      "Epoch 16/1000\n",
      "298/298 - 0s - loss: 4.4494 - root_mean_squared_error: 2.1094 - val_loss: 3.5987 - val_root_mean_squared_error: 1.8970 - 312ms/epoch - 1ms/step\n",
      "Epoch 17/1000\n",
      "298/298 - 0s - loss: 4.3234 - root_mean_squared_error: 2.0793 - val_loss: 3.5848 - val_root_mean_squared_error: 1.8934 - 315ms/epoch - 1ms/step\n",
      "Epoch 18/1000\n",
      "298/298 - 0s - loss: 4.3564 - root_mean_squared_error: 2.0872 - val_loss: 3.5394 - val_root_mean_squared_error: 1.8813 - 309ms/epoch - 1ms/step\n",
      "Epoch 19/1000\n",
      "298/298 - 0s - loss: 4.1866 - root_mean_squared_error: 2.0461 - val_loss: 3.9563 - val_root_mean_squared_error: 1.9891 - 326ms/epoch - 1ms/step\n",
      "Epoch 20/1000\n",
      "298/298 - 0s - loss: 4.4102 - root_mean_squared_error: 2.1000 - val_loss: 3.5669 - val_root_mean_squared_error: 1.8886 - 312ms/epoch - 1ms/step\n",
      "Epoch 21/1000\n",
      "298/298 - 0s - loss: 4.1491 - root_mean_squared_error: 2.0369 - val_loss: 3.6937 - val_root_mean_squared_error: 1.9219 - 308ms/epoch - 1ms/step\n",
      "Epoch 22/1000\n",
      "298/298 - 0s - loss: 4.3062 - root_mean_squared_error: 2.0751 - val_loss: 3.7279 - val_root_mean_squared_error: 1.9308 - 308ms/epoch - 1ms/step\n",
      "Epoch 23/1000\n",
      "298/298 - 0s - loss: 4.3650 - root_mean_squared_error: 2.0893 - val_loss: 3.7368 - val_root_mean_squared_error: 1.9331 - 313ms/epoch - 1ms/step\n",
      "Epoch 24/1000\n",
      "298/298 - 0s - loss: 4.2881 - root_mean_squared_error: 2.0708 - val_loss: 3.6164 - val_root_mean_squared_error: 1.9017 - 313ms/epoch - 1ms/step\n",
      "Epoch 25/1000\n",
      "298/298 - 0s - loss: 4.2904 - root_mean_squared_error: 2.0713 - val_loss: 3.5735 - val_root_mean_squared_error: 1.8904 - 311ms/epoch - 1ms/step\n",
      "Epoch 26/1000\n",
      "298/298 - 0s - loss: 4.0898 - root_mean_squared_error: 2.0223 - val_loss: 3.5222 - val_root_mean_squared_error: 1.8768 - 311ms/epoch - 1ms/step\n",
      "Epoch 27/1000\n",
      "298/298 - 0s - loss: 4.2416 - root_mean_squared_error: 2.0595 - val_loss: 3.6478 - val_root_mean_squared_error: 1.9099 - 307ms/epoch - 1ms/step\n",
      "Epoch 28/1000\n",
      "298/298 - 0s - loss: 4.2888 - root_mean_squared_error: 2.0709 - val_loss: 3.5629 - val_root_mean_squared_error: 1.8876 - 311ms/epoch - 1ms/step\n",
      "Epoch 29/1000\n",
      "298/298 - 0s - loss: 4.3489 - root_mean_squared_error: 2.0854 - val_loss: 3.5176 - val_root_mean_squared_error: 1.8755 - 314ms/epoch - 1ms/step\n",
      "Epoch 30/1000\n",
      "298/298 - 0s - loss: 4.2241 - root_mean_squared_error: 2.0553 - val_loss: 3.5730 - val_root_mean_squared_error: 1.8902 - 318ms/epoch - 1ms/step\n",
      "Epoch 31/1000\n",
      "298/298 - 0s - loss: 4.2686 - root_mean_squared_error: 2.0661 - val_loss: 3.7081 - val_root_mean_squared_error: 1.9256 - 316ms/epoch - 1ms/step\n",
      "Epoch 32/1000\n",
      "298/298 - 0s - loss: 4.2054 - root_mean_squared_error: 2.0507 - val_loss: 3.5766 - val_root_mean_squared_error: 1.8912 - 312ms/epoch - 1ms/step\n",
      "Epoch 33/1000\n",
      "298/298 - 0s - loss: 4.2403 - root_mean_squared_error: 2.0592 - val_loss: 3.5783 - val_root_mean_squared_error: 1.8916 - 336ms/epoch - 1ms/step\n",
      "Epoch 34/1000\n",
      "298/298 - 0s - loss: 4.2769 - root_mean_squared_error: 2.0681 - val_loss: 3.6202 - val_root_mean_squared_error: 1.9027 - 309ms/epoch - 1ms/step\n",
      "Epoch 35/1000\n",
      "298/298 - 0s - loss: 4.2378 - root_mean_squared_error: 2.0586 - val_loss: 3.4906 - val_root_mean_squared_error: 1.8683 - 317ms/epoch - 1ms/step\n",
      "Epoch 36/1000\n",
      "298/298 - 0s - loss: 4.1747 - root_mean_squared_error: 2.0432 - val_loss: 3.5626 - val_root_mean_squared_error: 1.8875 - 319ms/epoch - 1ms/step\n",
      "Epoch 37/1000\n",
      "298/298 - 0s - loss: 4.0705 - root_mean_squared_error: 2.0176 - val_loss: 3.4006 - val_root_mean_squared_error: 1.8441 - 317ms/epoch - 1ms/step\n",
      "Epoch 38/1000\n",
      "298/298 - 0s - loss: 4.2218 - root_mean_squared_error: 2.0547 - val_loss: 3.3956 - val_root_mean_squared_error: 1.8427 - 316ms/epoch - 1ms/step\n",
      "Epoch 39/1000\n",
      "298/298 - 0s - loss: 4.1767 - root_mean_squared_error: 2.0437 - val_loss: 3.4416 - val_root_mean_squared_error: 1.8552 - 318ms/epoch - 1ms/step\n",
      "Epoch 40/1000\n",
      "298/298 - 0s - loss: 4.1661 - root_mean_squared_error: 2.0411 - val_loss: 3.4560 - val_root_mean_squared_error: 1.8590 - 313ms/epoch - 1ms/step\n",
      "Epoch 41/1000\n",
      "298/298 - 0s - loss: 4.1265 - root_mean_squared_error: 2.0314 - val_loss: 3.4539 - val_root_mean_squared_error: 1.8585 - 316ms/epoch - 1ms/step\n",
      "Epoch 42/1000\n",
      "298/298 - 0s - loss: 4.1179 - root_mean_squared_error: 2.0293 - val_loss: 3.4774 - val_root_mean_squared_error: 1.8648 - 314ms/epoch - 1ms/step\n",
      "Epoch 43/1000\n",
      "298/298 - 0s - loss: 4.1162 - root_mean_squared_error: 2.0288 - val_loss: 3.6177 - val_root_mean_squared_error: 1.9020 - 310ms/epoch - 1ms/step\n",
      "Epoch 44/1000\n",
      "298/298 - 0s - loss: 4.1859 - root_mean_squared_error: 2.0459 - val_loss: 3.5031 - val_root_mean_squared_error: 1.8717 - 316ms/epoch - 1ms/step\n",
      "Epoch 45/1000\n",
      "298/298 - 0s - loss: 4.1732 - root_mean_squared_error: 2.0428 - val_loss: 3.4101 - val_root_mean_squared_error: 1.8466 - 314ms/epoch - 1ms/step\n",
      "Epoch 46/1000\n",
      "298/298 - 0s - loss: 4.1563 - root_mean_squared_error: 2.0387 - val_loss: 3.4127 - val_root_mean_squared_error: 1.8474 - 311ms/epoch - 1ms/step\n",
      "Epoch 47/1000\n",
      "298/298 - 0s - loss: 3.9888 - root_mean_squared_error: 1.9972 - val_loss: 3.5227 - val_root_mean_squared_error: 1.8769 - 318ms/epoch - 1ms/step\n",
      "Epoch 48/1000\n",
      "298/298 - 0s - loss: 3.9256 - root_mean_squared_error: 1.9813 - val_loss: 3.4156 - val_root_mean_squared_error: 1.8481 - 308ms/epoch - 1ms/step\n"
     ]
    }
   ],
   "source": [
    "history = model.fit(x_train, y_train,\n",
    "                    batch_size = 8,\n",
    "                    epochs = 1000,\n",
    "                    validation_data=(x_val, y_val),\n",
    "                    callbacks=[earlystopper],\n",
    "                    verbose = 2)"
   ]
  },
  {
   "cell_type": "code",
   "execution_count": 15,
   "id": "eb4ecdf4-8e5f-455c-bd8b-f3c95bed79b6",
   "metadata": {},
   "outputs": [
    {
     "data": {
      "image/png": "[encoded data removed]",
      "text/plain": [
       "<Figure size 640x480 with 1 Axes>"
      ]
     },
     "metadata": {},
     "output_type": "display_data"
    }
   ],
   "source": [
    "plot_history('root_mean_squared_error')"
   ]
  },
  {
   "cell_type": "code",
   "execution_count": 16,
   "id": "b93ea011-0cc8-4cbd-8983-02b0f38d14ef",
   "metadata": {},
   "outputs": [
    {
     "name": "stdout",
     "output_type": "stream",
     "text": [
      "75/75 [==============================] - 0s 480us/step\n",
      "36/36 [==============================] - 0s 471us/step\n"
     ]
    }
   ],
   "source": [
    "y_train_predicted = model.predict(x_train)\n",
    "y_test_predicted = model.predict(x_test)"
   ]
  },
  {
   "cell_type": "code",
   "execution_count": 17,
   "id": "fd112bbb-dbca-4e9d-8404-498bfd9696aa",
   "metadata": {},
   "outputs": [
    {
     "data": {
      "image/png": "[encoded data removed]",
      "text/plain": [
       "<Figure size 640x480 with 1 Axes>"
      ]
     },
     "metadata": {},
     "output_type": "display_data"
    }
   ],
   "source": [
    "def plot_predictions(y_pred, y_true, title):\n",
    "    plt.style.use('ggplot') \n",
    "    plt.scatter(y_pred, y_true, s=10, alpha=0.5)\n",
    "    plt.xlabel(\"predicted\")\n",
    "    plt.ylabel(\"true\")\n",
    "    plt.title(title)\n",
    "   \n",
    "\n",
    "plot_predictions(y_train_predicted, y_train, title='Predictions on the training set')"
   ]
  },
  {
   "cell_type": "code",
   "execution_count": 18,
   "id": "b50e5ed8-996e-4655-abe0-7896245e558e",
   "metadata": {},
   "outputs": [
    {
     "data": {
      "image/png": "[encoded data removed]",
      "text/plain": [
       "<Figure size 640x480 with 1 Axes>"
      ]
     },
     "metadata": {},
     "output_type": "display_data"
    }
   ],
   "source": [
    "plot_predictions(y_test_predicted, y_test, title='Predictions on the test set')"
   ]
  },
  {
   "cell_type": "code",
   "execution_count": 19,
   "id": "e5c4aa6d-0fd7-4d29-a342-4d173ee15b21",
   "metadata": {},
   "outputs": [
    {
     "name": "stdout",
     "output_type": "stream",
     "text": [
      "75/75 [==============================] - 0s 527us/step - loss: 3.4156 - root_mean_squared_error: 1.8481\n",
      "36/36 [==============================] - 0s 525us/step - loss: 2.1642 - root_mean_squared_error: 1.4711\n",
      "Train RMSE: 1.85, Test RMSE: 1.47\n"
     ]
    }
   ],
   "source": [
    "train_metrics = model.evaluate(x_train, y_train, return_dict=True)\n",
    "test_metrics = model.evaluate(x_test, y_test, return_dict=True)\n",
    "print('Train RMSE: {:.2f}, Test RMSE: {:.2f}'.format(train_metrics['root_mean_squared_error'], test_metrics['root_mean_squared_error']))\n"
   ]
  },
  {
   "cell_type": "code",
   "execution_count": 20,
   "id": "5f70656a-a220-4133-8035-90a76daa2b3f",
   "metadata": {},
   "outputs": [
    {
     "data": {
      "text/plain": [
       "array([[ 5.68732627e-04,  9.07128540e-02,  1.04267648e-03,\n",
       "         1.89577542e-01,  9.77651386e-01,  5.28108868e-03],\n",
       "       [-5.71451051e-04,  9.38132143e-02,  1.80959500e-03,\n",
       "         2.00007868e-01,  9.75276461e-01,  5.30633119e-03],\n",
       "       [ 5.65047474e-03,  9.00245128e-02,  3.16043502e-03,\n",
       "         2.21230452e-01,  9.71019718e-01,  5.60943013e-03],\n",
       "       ...,\n",
       "       [ 9.64463839e-03,  6.52651743e-02,  3.27730431e-03,\n",
       "         3.01511996e-01,  9.51167347e-01,  2.80911798e-03],\n",
       "       [ 9.17228530e-03,  5.05411639e-02,  1.68470546e-03,\n",
       "         2.85463981e-01,  9.57006297e-01,  2.80784244e-03],\n",
       "       [ 1.22808996e-02,  5.14262673e-02,  1.82294604e-03,\n",
       "         2.19712970e-01,  9.74124798e-01,  2.87833585e-03]])"
      ]
     },
     "execution_count": 20,
     "metadata": {},
     "output_type": "execute_result"
    }
   ],
   "source": [
    "x_test"
   ]
  },
  {
   "cell_type": "code",
   "execution_count": 21,
   "id": "b6ce6030-bfb1-4543-8855-a88fcda8a9f8",
   "metadata": {},
   "outputs": [
    {
     "data": {
      "image/png": "[encoded data removed]",
      "text/plain": [
       "<Figure size 640x480 with 1 Axes>"
      ]
     },
     "metadata": {},
     "output_type": "display_data"
    }
   ],
   "source": [
    "plot_history(['root_mean_squared_error', 'val_root_mean_squared_error'])\n"
   ]
  },
  {
   "cell_type": "code",
   "execution_count": 22,
   "id": "976640ff-a05f-4823-b6e6-cb0390e7e2b8",
   "metadata": {},
   "outputs": [],
   "source": [
    " from sklearn.metrics import mean_squared_error"
   ]
  },
  {
   "cell_type": "code",
   "execution_count": 23,
   "id": "683d786a-39da-4bb7-bb55-7904d6d88b89",
   "metadata": {},
   "outputs": [
    {
     "data": {
      "text/plain": [
       "1.4711135431904048"
      ]
     },
     "execution_count": 23,
     "metadata": {},
     "output_type": "execute_result"
    }
   ],
   "source": [
    "mean_squared_error(y_test, y_test_predicted, squared=False)"
   ]
  },
  {
   "cell_type": "code",
   "execution_count": null,
   "id": "75ed12c8-2719-4db4-bbd9-65e5560a9e2f",
   "metadata": {},
   "outputs": [],
   "source": []
  }
 ],
 "metadata": {
  "kernelspec": {
   "display_name": "ML (based on the latest module pytorch)",
   "language": "python",
   "name": "ml-aim"
  },
  "language_info": {
   "codemirror_mode": {
    "name": "ipython",
    "version": 3
   },
   "file_extension": ".py",
   "mimetype": "text/x-python",
   "name": "python",
   "nbconvert_exporter": "python",
   "pygments_lexer": "ipython3",
   "version": "3.10.8"
  }
 },
 "nbformat": 4,
 "nbformat_minor": 5
}
