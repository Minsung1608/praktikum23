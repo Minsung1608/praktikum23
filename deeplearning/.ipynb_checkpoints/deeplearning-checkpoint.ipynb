{
 "cells": [
  {
   "cell_type": "code",
   "execution_count": 3,
   "id": "291e9930-df7a-479c-b23f-3cba27fd1afa",
   "metadata": {},
   "outputs": [
    {
     "name": "stdout",
     "output_type": "stream",
     "text": [
      "0.12.2\n",
      "2.12.0\n"
     ]
    }
   ],
   "source": [
    "import sklearn\n",
    "import seaborn\n",
    "print(seaborn.__version__)\n",
    "import pandas \n",
    "from tensorflow import keras \n",
    "print(keras.__version__)\n",
    "import tensorflow"
   ]
  },
  {
   "cell_type": "code",
   "execution_count": null,
   "id": "3f998870-96d6-44c0-81dc-4ff56f1dad16",
   "metadata": {},
   "outputs": [],
   "source": []
  }
 ],
 "metadata": {
  "kernelspec": {
   "display_name": "Python 3 (ipykernel)",
   "language": "python",
   "name": "python3"
  },
  "language_info": {
   "codemirror_mode": {
    "name": "ipython",
    "version": 3
   },
   "file_extension": ".py",
   "mimetype": "text/x-python",
   "name": "python",
   "nbconvert_exporter": "python",
   "pygments_lexer": "ipython3",
   "version": "3.11.3"
  }
 },
 "nbformat": 4,
 "nbformat_minor": 5
}
