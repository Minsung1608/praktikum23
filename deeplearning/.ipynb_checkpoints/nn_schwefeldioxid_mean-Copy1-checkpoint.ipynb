{
 "cells": [
  {
   "cell_type": "code",
   "execution_count": null,
   "id": "419a6381-9bcb-41c5-81db-e744e53e2574",
   "metadata": {
    "tags": []
   },
   "outputs": [],
   "source": [
    "import pandas as pd \n",
    "df1=pd.read_csv(\"billwerder_schadstoffe_2012-2023.csv\")\n",
    "df2=pd.read_csv(\"billwerder_wetter_2012-2023.csv\")\n",
    "df=pd.merge(df1, df2, on=\"Messzeit\")\n",
    "rolling_mean = df['Schwefeldioxid (µg/m3)'].rolling(window=7, min_periods=1).mean()\n",
    "df['Schwefeldioxid Mittelwert'] = rolling_mean"
   ]
  },
  {
   "cell_type": "code",
   "execution_count": null,
   "id": "dfcdb212-2b7d-4f9b-ab3e-7d9a1aa4718f",
   "metadata": {
    "tags": []
   },
   "outputs": [],
   "source": [
    "df_train = df.iloc[:2555,:]\n",
    "df_val = df.iloc[2555:2920,:]\n",
    "df_test = df.iloc[2920:,:]"
   ]
  },
  {
   "cell_type": "code",
   "execution_count": null,
   "id": "a522cb96-4747-4b4b-83ec-405e08f19a36",
   "metadata": {
    "tags": []
   },
   "outputs": [],
   "source": [
    "df_train = df_train.dropna()\n",
    "df_val = df_val.dropna()\n",
    "df_test = df_test.dropna()"
   ]
  },
  {
   "cell_type": "code",
   "execution_count": null,
   "id": "5823d51d-6b83-4129-b79d-b10cde415883",
   "metadata": {
    "tags": []
   },
   "outputs": [],
   "source": [
    "x_train = df_train.drop(columns=['Feinstaub (µg/m3)', 'Messzeit', 'Unnamed: 0_x', 'Stickstoffdioxid (µg/m3)', 'Stickstoffmonoxid (µg/m3)', 'Schwefeldioxid (µg/m3)', 'Unnamed: 0_y'])\n",
    "y_train = df_train['Schwefeldioxid (µg/m3)']\n",
    "x_val = df_train.drop(columns=['Feinstaub (µg/m3)', 'Messzeit', 'Unnamed: 0_x', 'Stickstoffdioxid (µg/m3)', 'Stickstoffmonoxid (µg/m3)', 'Schwefeldioxid (µg/m3)', 'Unnamed: 0_y'])\n",
    "y_val = df_train['Schwefeldioxid (µg/m3)']\n",
    "x_test = df_test.drop(columns=['Feinstaub (µg/m3)', 'Messzeit', 'Unnamed: 0_x', 'Stickstoffdioxid (µg/m3)', 'Stickstoffmonoxid (µg/m3)', 'Schwefeldioxid (µg/m3)', 'Unnamed: 0_y'])\n",
    "y_test = df_test['Schwefeldioxid (µg/m3)']"
   ]
  },
  {
   "cell_type": "code",
   "execution_count": null,
   "id": "226c141d-440f-441b-bf33-74cb854bac16",
   "metadata": {
    "tags": []
   },
   "outputs": [],
   "source": [
    "import seaborn as sns\n",
    "import matplotlib.pyplot as plt\n",
    "\n",
    "def plot_history(metrics):\n",
    "    history_df = pd.DataFrame.from_dict(history.history)\n",
    "    sns.lineplot(data=history_df[metrics])\n",
    "    plt.xlabel(\"epochs\")\n",
    "    plt.ylabel(\"RMSE\")"
   ]
  },
  {
   "cell_type": "code",
   "execution_count": null,
   "id": "6db890c3-77f7-4b5c-a3d5-a128699bb1f7",
   "metadata": {},
   "outputs": [],
   "source": [
    "from sklearn.model_selection import GridSearchCV\n",
    "from scikeras.wrappers import KerasRegressor\n",
    "from tensorflow.keras.callbacks import EarlyStopping\n",
    "from tensorflow import keras\n",
    "from tensorflow.keras.models import Sequential\n",
    "from tensorflow.keras.layers import BatchNormalization, Dense\n",
    "from tensorflow.keras.callbacks import EarlyStopping\n",
    "earlystopper = EarlyStopping(\n",
    "    monitor='val_loss',\n",
    "    patience=10\n",
    "    )\n",
    "\n",
    "def create_nn(neurons=100):\n",
    "    model = Sequential()\n",
    "    model.add(BatchNormalization(input_shape=(6,)))\n",
    "    model.add(Dense(neurons, 'relu'))\n",
    "    model.add(Dense(neurons//2, 'relu'))\n",
    "    model.add(Dense(1))\n",
    "    model.compile(optimizer='adam', loss='mse', metrics=[keras.metrics.RootMeanSquaredError()])\n",
    "    return model"
   ]
  },
  {
   "cell_type": "code",
   "execution_count": null,
   "id": "5f20f2da-2e64-4d8d-be88-18fd81bf79ac",
   "metadata": {},
   "outputs": [],
   "source": [
    "param_grid = {\n",
    "    'batch_size': [8, 16, 32],\n",
    "\n",
    "}"
   ]
  },
  {
   "cell_type": "code",
   "execution_count": null,
   "id": "51db35f2-1f23-4fcb-ad4b-27f3a2578ce5",
   "metadata": {},
   "outputs": [],
   "source": [
    "model = KerasRegressor(build_fn=create_nn, verbose=2)"
   ]
  },
  {
   "cell_type": "code",
   "execution_count": null,
   "id": "604070fc-88d5-4546-ae1d-7749b9b0b7a7",
   "metadata": {},
   "outputs": [],
   "source": [
    "grid_search = GridSearchCV(estimator=model, param_grid=param_grid, cv=3)"
   ]
  },
  {
   "cell_type": "code",
   "execution_count": null,
   "id": "91a8153a-8908-48df-a647-b9d1565d411e",
   "metadata": {},
   "outputs": [],
   "source": [
    "grid_result = grid_search.fit(x_train, y_train, validation_data=(x_val, y_val), callbacks=[earlystopper])"
   ]
  },
  {
   "cell_type": "code",
   "execution_count": null,
   "id": "99cc303c-26e5-4202-8273-354775ecd81a",
   "metadata": {},
   "outputs": [],
   "source": [
    "print(\"Best parameters: \", grid_result.best_params_)"
   ]
  },
  {
   "cell_type": "code",
   "execution_count": null,
   "id": "6406ca29-42aa-4095-8be5-23e04e7b1a55",
   "metadata": {},
   "outputs": [],
   "source": [
    "history = model.fit(x_train, y_train,\n",
    "                    batch_size = 8,\n",
    "                    epochs = 200,\n",
    "                    validation_data=(x_val, y_val),\n",
    "                    callbacks=[earlystopper],\n",
    "                    verbose = 2)"
   ]
  },
  {
   "cell_type": "code",
   "execution_count": null,
   "id": "eb4ecdf4-8e5f-455c-bd8b-f3c95bed79b6",
   "metadata": {},
   "outputs": [],
   "source": [
    "plot_history('root_mean_squared_error')"
   ]
  },
  {
   "cell_type": "code",
   "execution_count": null,
   "id": "b93ea011-0cc8-4cbd-8983-02b0f38d14ef",
   "metadata": {},
   "outputs": [],
   "source": [
    "y_train_predicted = model.predict(x_train)\n",
    "y_test_predicted = model.predict(x_test)"
   ]
  },
  {
   "cell_type": "code",
   "execution_count": null,
   "id": "fd112bbb-dbca-4e9d-8404-498bfd9696aa",
   "metadata": {},
   "outputs": [],
   "source": [
    "def plot_predictions(y_pred, y_true, title):\n",
    "    plt.style.use('ggplot') \n",
    "    plt.scatter(y_pred, y_true, s=10, alpha=0.5)\n",
    "    plt.xlabel(\"predicted\")\n",
    "    plt.ylabel(\"true\")\n",
    "    plt.title(title)\n",
    "   \n",
    "\n",
    "plot_predictions(y_train_predicted, y_train, title='Predictions on the training set')"
   ]
  },
  {
   "cell_type": "code",
   "execution_count": null,
   "id": "b50e5ed8-996e-4655-abe0-7896245e558e",
   "metadata": {},
   "outputs": [],
   "source": [
    "plot_predictions(y_test_predicted, y_test, title='Predictions on the test set')"
   ]
  },
  {
   "cell_type": "code",
   "execution_count": null,
   "id": "e5c4aa6d-0fd7-4d29-a342-4d173ee15b21",
   "metadata": {},
   "outputs": [],
   "source": [
    "train_metrics = model.evaluate(x_train, y_train, return_dict=True)\n",
    "test_metrics = model.evaluate(x_test, y_test, return_dict=True)\n",
    "print('Train RMSE: {:.2f}, Test RMSE: {:.2f}'.format(train_metrics['root_mean_squared_error'], test_metrics['root_mean_squared_error']))\n"
   ]
  },
  {
   "cell_type": "code",
   "execution_count": null,
   "id": "5f70656a-a220-4133-8035-90a76daa2b3f",
   "metadata": {},
   "outputs": [],
   "source": [
    "x_test"
   ]
  },
  {
   "cell_type": "code",
   "execution_count": null,
   "id": "b6ce6030-bfb1-4543-8855-a88fcda8a9f8",
   "metadata": {},
   "outputs": [],
   "source": [
    "plot_history(['root_mean_squared_error', 'val_root_mean_squared_error'])\n"
   ]
  },
  {
   "cell_type": "code",
   "execution_count": null,
   "id": "976640ff-a05f-4823-b6e6-cb0390e7e2b8",
   "metadata": {},
   "outputs": [],
   "source": []
  },
  {
   "cell_type": "code",
   "execution_count": null,
   "id": "683d786a-39da-4bb7-bb55-7904d6d88b89",
   "metadata": {},
   "outputs": [],
   "source": []
  },
  {
   "cell_type": "code",
   "execution_count": null,
   "id": "75ed12c8-2719-4db4-bbd9-65e5560a9e2f",
   "metadata": {},
   "outputs": [],
   "source": []
  }
 ],
 "metadata": {
  "kernelspec": {
   "display_name": "My Kernel",
   "language": "python",
   "name": "my-kernel"
  },
  "language_info": {
   "codemirror_mode": {
    "name": "ipython",
    "version": 3
   },
   "file_extension": ".py",
   "mimetype": "text/x-python",
   "name": "python",
   "nbconvert_exporter": "python",
   "pygments_lexer": "ipython3",
   "version": "3.11.3"
  }
 },
 "nbformat": 4,
 "nbformat_minor": 5
}
