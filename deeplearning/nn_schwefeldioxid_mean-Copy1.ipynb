{
 "cells": [
  {
   "cell_type": "code",
   "execution_count": 1,
   "id": "419a6381-9bcb-41c5-81db-e744e53e2574",
   "metadata": {
    "tags": []
   },
   "outputs": [],
   "source": [
    "import pandas as pd \n",
    "df1=pd.read_csv(\"billwerder_schadstoffe_2012-2023.csv\")\n",
    "df2=pd.read_csv(\"billwerder_wetter_2012-2023.csv\")\n",
    "df=pd.merge(df1, df2, on=\"Messzeit\")\n",
    "rolling_mean = df['Schwefeldioxid (µg/m3)'].rolling(window=7, min_periods=1).mean()\n",
    "df['Schwefeldioxid Mittelwert'] = rolling_mean"
   ]
  },
  {
   "cell_type": "code",
   "execution_count": 2,
   "id": "dfcdb212-2b7d-4f9b-ab3e-7d9a1aa4718f",
   "metadata": {
    "tags": []
   },
   "outputs": [],
   "source": [
    "df_train = df.iloc[:2555,:]\n",
    "df_val = df.iloc[2555:2920,:]\n",
    "df_test = df.iloc[2920:,:]"
   ]
  },
  {
   "cell_type": "code",
   "execution_count": 3,
   "id": "a522cb96-4747-4b4b-83ec-405e08f19a36",
   "metadata": {
    "tags": []
   },
   "outputs": [],
   "source": [
    "df_train = df_train.dropna()\n",
    "df_val = df_val.dropna()\n",
    "df_test = df_test.dropna()"
   ]
  },
  {
   "cell_type": "code",
   "execution_count": 4,
   "id": "5823d51d-6b83-4129-b79d-b10cde415883",
   "metadata": {
    "tags": []
   },
   "outputs": [],
   "source": [
    "x_train = df_train.drop(columns=['Feinstaub (µg/m3)', 'Messzeit', 'Unnamed: 0_x', 'Stickstoffdioxid (µg/m3)', 'Stickstoffmonoxid (µg/m3)', 'Schwefeldioxid (µg/m3)', 'Unnamed: 0_y'])\n",
    "y_train = df_train['Schwefeldioxid (µg/m3)']\n",
    "x_val = df_train.drop(columns=['Feinstaub (µg/m3)', 'Messzeit', 'Unnamed: 0_x', 'Stickstoffdioxid (µg/m3)', 'Stickstoffmonoxid (µg/m3)', 'Schwefeldioxid (µg/m3)', 'Unnamed: 0_y'])\n",
    "y_val = df_train['Schwefeldioxid (µg/m3)']\n",
    "x_test = df_test.drop(columns=['Feinstaub (µg/m3)', 'Messzeit', 'Unnamed: 0_x', 'Stickstoffdioxid (µg/m3)', 'Stickstoffmonoxid (µg/m3)', 'Schwefeldioxid (µg/m3)', 'Unnamed: 0_y'])\n",
    "y_test = df_test['Schwefeldioxid (µg/m3)']"
   ]
  },
  {
   "cell_type": "code",
   "execution_count": 5,
   "id": "226c141d-440f-441b-bf33-74cb854bac16",
   "metadata": {
    "tags": []
   },
   "outputs": [],
   "source": [
    "import seaborn as sns\n",
    "import matplotlib.pyplot as plt\n",
    "\n",
    "def plot_history(metrics):\n",
    "    history_df = pd.DataFrame.from_dict(history.history)\n",
    "    sns.lineplot(data=history_df[metrics])\n",
    "    plt.xlabel(\"epochs\")\n",
    "    plt.ylabel(\"RMSE\")"
   ]
  },
  {
   "cell_type": "code",
   "execution_count": 6,
   "id": "6db890c3-77f7-4b5c-a3d5-a128699bb1f7",
   "metadata": {},
   "outputs": [
    {
     "name": "stderr",
     "output_type": "stream",
     "text": [
      "2023-06-29 13:57:41.411938: I tensorflow/core/platform/cpu_feature_guard.cc:182] This TensorFlow binary is optimized to use available CPU instructions in performance-critical operations.\n",
      "To enable the following instructions: AVX2 FMA, in other operations, rebuild TensorFlow with the appropriate compiler flags.\n"
     ]
    }
   ],
   "source": [
    "from sklearn.model_selection import GridSearchCV\n",
    "from scikeras.wrappers import KerasRegressor\n",
    "from tensorflow.keras.callbacks import EarlyStopping\n",
    "from tensorflow import keras\n",
    "from tensorflow.keras.models import Sequential\n",
    "from tensorflow.keras.layers import BatchNormalization, Dense\n",
    "from tensorflow.keras.callbacks import EarlyStopping\n",
    "earlystopper = EarlyStopping(\n",
    "    monitor='val_loss',\n",
    "    patience=10\n",
    "    )\n",
    "\n",
    "def create_nn(neurons=100):\n",
    "    model = Sequential()\n",
    "    model.add(BatchNormalization(input_shape=(6,)))\n",
    "    model.add(Dense(neurons, 'relu'))\n",
    "    model.add(Dense(neurons//2, 'relu'))\n",
    "    model.add(Dense(1))\n",
    "    model.compile(optimizer='adam', loss='mse', metrics=[keras.metrics.RootMeanSquaredError()])\n",
    "    return model"
   ]
  },
  {
   "cell_type": "code",
   "execution_count": 7,
   "id": "5f20f2da-2e64-4d8d-be88-18fd81bf79ac",
   "metadata": {},
   "outputs": [],
   "source": [
    "param_grid = {\n",
    "    'batch_size': [8, 16, 32],\n",
    "\n",
    "}"
   ]
  },
  {
   "cell_type": "code",
   "execution_count": 8,
   "id": "51db35f2-1f23-4fcb-ad4b-27f3a2578ce5",
   "metadata": {},
   "outputs": [],
   "source": [
    "model = KerasRegressor(build_fn=create_nn, verbose=2)"
   ]
  },
  {
   "cell_type": "code",
   "execution_count": 9,
   "id": "604070fc-88d5-4546-ae1d-7749b9b0b7a7",
   "metadata": {},
   "outputs": [],
   "source": [
    "grid_search = GridSearchCV(estimator=model, param_grid=param_grid, cv=3)"
   ]
  },
  {
   "cell_type": "code",
   "execution_count": 10,
   "id": "91a8153a-8908-48df-a647-b9d1565d411e",
   "metadata": {},
   "outputs": [
    {
     "name": "stderr",
     "output_type": "stream",
     "text": [
      "/home/b/b382492/.conda/envs/env-name/lib/python3.11/site-packages/scikeras/wrappers.py:915: UserWarning: ``build_fn`` will be renamed to ``model`` in a future release, at which point use of ``build_fn`` will raise an Error instead.\n",
      "  X, y = self._initialize(X, y)\n"
     ]
    },
    {
     "name": "stdout",
     "output_type": "stream",
     "text": [
      "199/199 - 1s - loss: 8.9479 - root_mean_squared_error: 2.9913 - val_loss: 407.4532 - val_root_mean_squared_error: 20.1855 - 1s/epoch - 5ms/step\n",
      "100/100 - 0s - 95ms/epoch - 951us/step\n"
     ]
    },
    {
     "name": "stderr",
     "output_type": "stream",
     "text": [
      "/home/b/b382492/.conda/envs/env-name/lib/python3.11/site-packages/scikeras/wrappers.py:915: UserWarning: ``build_fn`` will be renamed to ``model`` in a future release, at which point use of ``build_fn`` will raise an Error instead.\n",
      "  X, y = self._initialize(X, y)\n"
     ]
    },
    {
     "name": "stdout",
     "output_type": "stream",
     "text": [
      "199/199 - 1s - loss: 7.8848 - root_mean_squared_error: 2.8080 - val_loss: 343.7696 - val_root_mean_squared_error: 18.5410 - 874ms/epoch - 4ms/step\n",
      "100/100 - 0s - 92ms/epoch - 921us/step\n"
     ]
    },
    {
     "name": "stderr",
     "output_type": "stream",
     "text": [
      "/home/b/b382492/.conda/envs/env-name/lib/python3.11/site-packages/scikeras/wrappers.py:915: UserWarning: ``build_fn`` will be renamed to ``model`` in a future release, at which point use of ``build_fn`` will raise an Error instead.\n",
      "  X, y = self._initialize(X, y)\n"
     ]
    },
    {
     "name": "stdout",
     "output_type": "stream",
     "text": [
      "199/199 - 1s - loss: 7.9602 - root_mean_squared_error: 2.8214 - val_loss: 229.1874 - val_root_mean_squared_error: 15.1389 - 863ms/epoch - 4ms/step\n",
      "100/100 - 0s - 80ms/epoch - 805us/step\n"
     ]
    },
    {
     "name": "stderr",
     "output_type": "stream",
     "text": [
      "/home/b/b382492/.conda/envs/env-name/lib/python3.11/site-packages/scikeras/wrappers.py:915: UserWarning: ``build_fn`` will be renamed to ``model`` in a future release, at which point use of ``build_fn`` will raise an Error instead.\n",
      "  X, y = self._initialize(X, y)\n"
     ]
    },
    {
     "name": "stdout",
     "output_type": "stream",
     "text": [
      "100/100 - 1s - loss: 9.7288 - root_mean_squared_error: 3.1191 - val_loss: 4162.4448 - val_root_mean_squared_error: 64.5170 - 767ms/epoch - 8ms/step\n",
      "50/50 - 0s - 61ms/epoch - 1ms/step\n"
     ]
    },
    {
     "name": "stderr",
     "output_type": "stream",
     "text": [
      "/home/b/b382492/.conda/envs/env-name/lib/python3.11/site-packages/scikeras/wrappers.py:915: UserWarning: ``build_fn`` will be renamed to ``model`` in a future release, at which point use of ``build_fn`` will raise an Error instead.\n",
      "  X, y = self._initialize(X, y)\n"
     ]
    },
    {
     "name": "stdout",
     "output_type": "stream",
     "text": [
      "100/100 - 1s - loss: 9.9316 - root_mean_squared_error: 3.1514 - val_loss: 3858.9573 - val_root_mean_squared_error: 62.1205 - 760ms/epoch - 8ms/step\n",
      "50/50 - 0s - 60ms/epoch - 1ms/step\n"
     ]
    },
    {
     "name": "stderr",
     "output_type": "stream",
     "text": [
      "/home/b/b382492/.conda/envs/env-name/lib/python3.11/site-packages/scikeras/wrappers.py:915: UserWarning: ``build_fn`` will be renamed to ``model`` in a future release, at which point use of ``build_fn`` will raise an Error instead.\n",
      "  X, y = self._initialize(X, y)\n"
     ]
    },
    {
     "name": "stdout",
     "output_type": "stream",
     "text": [
      "100/100 - 1s - loss: 11.9564 - root_mean_squared_error: 3.4578 - val_loss: 3841.7031 - val_root_mean_squared_error: 61.9815 - 758ms/epoch - 8ms/step\n",
      "50/50 - 0s - 61ms/epoch - 1ms/step\n"
     ]
    },
    {
     "name": "stderr",
     "output_type": "stream",
     "text": [
      "/home/b/b382492/.conda/envs/env-name/lib/python3.11/site-packages/scikeras/wrappers.py:915: UserWarning: ``build_fn`` will be renamed to ``model`` in a future release, at which point use of ``build_fn`` will raise an Error instead.\n",
      "  X, y = self._initialize(X, y)\n"
     ]
    },
    {
     "name": "stdout",
     "output_type": "stream",
     "text": [
      "50/50 - 1s - loss: 12.6084 - root_mean_squared_error: 3.5508 - val_loss: 22258.9492 - val_root_mean_squared_error: 149.1943 - 722ms/epoch - 14ms/step\n",
      "25/25 - 0s - 51ms/epoch - 2ms/step\n"
     ]
    },
    {
     "name": "stderr",
     "output_type": "stream",
     "text": [
      "/home/b/b382492/.conda/envs/env-name/lib/python3.11/site-packages/scikeras/wrappers.py:915: UserWarning: ``build_fn`` will be renamed to ``model`` in a future release, at which point use of ``build_fn`` will raise an Error instead.\n",
      "  X, y = self._initialize(X, y)\n"
     ]
    },
    {
     "name": "stdout",
     "output_type": "stream",
     "text": [
      "50/50 - 1s - loss: 12.7530 - root_mean_squared_error: 3.5711 - val_loss: 17911.2051 - val_root_mean_squared_error: 133.8327 - 693ms/epoch - 14ms/step\n",
      "25/25 - 0s - 52ms/epoch - 2ms/step\n"
     ]
    },
    {
     "name": "stderr",
     "output_type": "stream",
     "text": [
      "/home/b/b382492/.conda/envs/env-name/lib/python3.11/site-packages/scikeras/wrappers.py:915: UserWarning: ``build_fn`` will be renamed to ``model`` in a future release, at which point use of ``build_fn`` will raise an Error instead.\n",
      "  X, y = self._initialize(X, y)\n"
     ]
    },
    {
     "name": "stdout",
     "output_type": "stream",
     "text": [
      "50/50 - 1s - loss: 13.6165 - root_mean_squared_error: 3.6901 - val_loss: 27762.1641 - val_root_mean_squared_error: 166.6198 - 703ms/epoch - 14ms/step\n",
      "25/25 - 0s - 50ms/epoch - 2ms/step\n"
     ]
    },
    {
     "name": "stderr",
     "output_type": "stream",
     "text": [
      "/home/b/b382492/.conda/envs/env-name/lib/python3.11/site-packages/scikeras/wrappers.py:915: UserWarning: ``build_fn`` will be renamed to ``model`` in a future release, at which point use of ``build_fn`` will raise an Error instead.\n",
      "  X, y = self._initialize(X, y)\n"
     ]
    },
    {
     "name": "stdout",
     "output_type": "stream",
     "text": [
      "298/298 - 1s - loss: 7.4718 - root_mean_squared_error: 2.7335 - val_loss: 24.3446 - val_root_mean_squared_error: 4.9340 - 1s/epoch - 4ms/step\n"
     ]
    }
   ],
   "source": [
    "grid_result = grid_search.fit(x_train, y_train, validation_data=(x_val, y_val), callbacks=[earlystopper])"
   ]
  },
  {
   "cell_type": "code",
   "execution_count": 11,
   "id": "99cc303c-26e5-4202-8273-354775ecd81a",
   "metadata": {},
   "outputs": [
    {
     "name": "stdout",
     "output_type": "stream",
     "text": [
      "Best parameters:  {'batch_size': 8}\n"
     ]
    }
   ],
   "source": [
    "print(\"Best parameters: \", grid_result.best_params_)"
   ]
  },
  {
   "cell_type": "code",
   "execution_count": 12,
   "id": "6406ca29-42aa-4095-8be5-23e04e7b1a55",
   "metadata": {},
   "outputs": [
    {
     "name": "stdout",
     "output_type": "stream",
     "text": [
      "Epoch 1/200\n"
     ]
    },
    {
     "name": "stderr",
     "output_type": "stream",
     "text": [
      "/home/b/b382492/.conda/envs/env-name/lib/python3.11/site-packages/scikeras/wrappers.py:915: UserWarning: ``build_fn`` will be renamed to ``model`` in a future release, at which point use of ``build_fn`` will raise an Error instead.\n",
      "  X, y = self._initialize(X, y)\n"
     ]
    },
    {
     "name": "stdout",
     "output_type": "stream",
     "text": [
      "298/298 - 1s - loss: 7.9948 - root_mean_squared_error: 2.8275 - val_loss: 28.3691 - val_root_mean_squared_error: 5.3263 - 888ms/epoch - 3ms/step\n",
      "Epoch 2/200\n",
      "298/298 - 0s - loss: 5.4580 - root_mean_squared_error: 2.3362 - val_loss: 5.0986 - val_root_mean_squared_error: 2.2580 - 303ms/epoch - 1ms/step\n",
      "Epoch 3/200\n",
      "298/298 - 0s - loss: 5.1716 - root_mean_squared_error: 2.2741 - val_loss: 4.7160 - val_root_mean_squared_error: 2.1716 - 303ms/epoch - 1ms/step\n",
      "Epoch 4/200\n",
      "298/298 - 0s - loss: 4.9887 - root_mean_squared_error: 2.2335 - val_loss: 4.6290 - val_root_mean_squared_error: 2.1515 - 307ms/epoch - 1ms/step\n",
      "Epoch 5/200\n",
      "298/298 - 0s - loss: 4.8965 - root_mean_squared_error: 2.2128 - val_loss: 4.2611 - val_root_mean_squared_error: 2.0642 - 306ms/epoch - 1ms/step\n",
      "Epoch 6/200\n",
      "298/298 - 0s - loss: 4.6818 - root_mean_squared_error: 2.1637 - val_loss: 4.0950 - val_root_mean_squared_error: 2.0236 - 301ms/epoch - 1ms/step\n",
      "Epoch 7/200\n",
      "298/298 - 0s - loss: 4.6820 - root_mean_squared_error: 2.1638 - val_loss: 4.1406 - val_root_mean_squared_error: 2.0349 - 301ms/epoch - 1ms/step\n",
      "Epoch 8/200\n",
      "298/298 - 0s - loss: 4.5467 - root_mean_squared_error: 2.1323 - val_loss: 3.8197 - val_root_mean_squared_error: 1.9544 - 304ms/epoch - 1ms/step\n",
      "Epoch 9/200\n",
      "298/298 - 0s - loss: 4.6131 - root_mean_squared_error: 2.1478 - val_loss: 3.7394 - val_root_mean_squared_error: 1.9338 - 316ms/epoch - 1ms/step\n",
      "Epoch 10/200\n",
      "298/298 - 0s - loss: 4.6341 - root_mean_squared_error: 2.1527 - val_loss: 3.8201 - val_root_mean_squared_error: 1.9545 - 308ms/epoch - 1ms/step\n",
      "Epoch 11/200\n",
      "298/298 - 0s - loss: 4.6629 - root_mean_squared_error: 2.1594 - val_loss: 3.7379 - val_root_mean_squared_error: 1.9334 - 307ms/epoch - 1ms/step\n",
      "Epoch 12/200\n",
      "298/298 - 0s - loss: 4.4530 - root_mean_squared_error: 2.1102 - val_loss: 3.7992 - val_root_mean_squared_error: 1.9491 - 297ms/epoch - 997us/step\n",
      "Epoch 13/200\n",
      "298/298 - 0s - loss: 4.6306 - root_mean_squared_error: 2.1519 - val_loss: 3.6812 - val_root_mean_squared_error: 1.9186 - 300ms/epoch - 1ms/step\n",
      "Epoch 14/200\n",
      "298/298 - 0s - loss: 4.5731 - root_mean_squared_error: 2.1385 - val_loss: 3.6750 - val_root_mean_squared_error: 1.9170 - 297ms/epoch - 996us/step\n",
      "Epoch 15/200\n",
      "298/298 - 0s - loss: 4.6410 - root_mean_squared_error: 2.1543 - val_loss: 3.7015 - val_root_mean_squared_error: 1.9239 - 298ms/epoch - 1ms/step\n",
      "Epoch 16/200\n",
      "298/298 - 0s - loss: 4.5886 - root_mean_squared_error: 2.1421 - val_loss: 3.7008 - val_root_mean_squared_error: 1.9238 - 302ms/epoch - 1ms/step\n",
      "Epoch 17/200\n",
      "298/298 - 0s - loss: 4.4809 - root_mean_squared_error: 2.1168 - val_loss: 3.7185 - val_root_mean_squared_error: 1.9284 - 301ms/epoch - 1ms/step\n",
      "Epoch 18/200\n",
      "298/298 - 0s - loss: 4.5894 - root_mean_squared_error: 2.1423 - val_loss: 3.6170 - val_root_mean_squared_error: 1.9018 - 306ms/epoch - 1ms/step\n",
      "Epoch 19/200\n",
      "298/298 - 0s - loss: 4.6733 - root_mean_squared_error: 2.1618 - val_loss: 3.5967 - val_root_mean_squared_error: 1.8965 - 305ms/epoch - 1ms/step\n",
      "Epoch 20/200\n",
      "298/298 - 0s - loss: 4.5413 - root_mean_squared_error: 2.1310 - val_loss: 3.7606 - val_root_mean_squared_error: 1.9392 - 303ms/epoch - 1ms/step\n",
      "Epoch 21/200\n",
      "298/298 - 0s - loss: 4.5734 - root_mean_squared_error: 2.1385 - val_loss: 3.5895 - val_root_mean_squared_error: 1.8946 - 302ms/epoch - 1ms/step\n",
      "Epoch 22/200\n",
      "298/298 - 0s - loss: 4.5390 - root_mean_squared_error: 2.1305 - val_loss: 4.0318 - val_root_mean_squared_error: 2.0079 - 299ms/epoch - 1ms/step\n",
      "Epoch 23/200\n",
      "298/298 - 0s - loss: 4.4587 - root_mean_squared_error: 2.1116 - val_loss: 3.6812 - val_root_mean_squared_error: 1.9187 - 296ms/epoch - 994us/step\n",
      "Epoch 24/200\n",
      "298/298 - 0s - loss: 4.5949 - root_mean_squared_error: 2.1436 - val_loss: 3.5930 - val_root_mean_squared_error: 1.8955 - 298ms/epoch - 1ms/step\n",
      "Epoch 25/200\n",
      "298/298 - 0s - loss: 4.5545 - root_mean_squared_error: 2.1341 - val_loss: 3.6038 - val_root_mean_squared_error: 1.8984 - 306ms/epoch - 1ms/step\n",
      "Epoch 26/200\n",
      "298/298 - 0s - loss: 4.5844 - root_mean_squared_error: 2.1411 - val_loss: 3.6571 - val_root_mean_squared_error: 1.9123 - 306ms/epoch - 1ms/step\n",
      "Epoch 27/200\n",
      "298/298 - 0s - loss: 4.5251 - root_mean_squared_error: 2.1272 - val_loss: 3.6644 - val_root_mean_squared_error: 1.9143 - 305ms/epoch - 1ms/step\n",
      "Epoch 28/200\n",
      "298/298 - 0s - loss: 4.5942 - root_mean_squared_error: 2.1434 - val_loss: 3.6514 - val_root_mean_squared_error: 1.9109 - 301ms/epoch - 1ms/step\n",
      "Epoch 29/200\n",
      "298/298 - 0s - loss: 4.6826 - root_mean_squared_error: 2.1639 - val_loss: 3.5854 - val_root_mean_squared_error: 1.8935 - 305ms/epoch - 1ms/step\n",
      "Epoch 30/200\n",
      "298/298 - 0s - loss: 4.3746 - root_mean_squared_error: 2.0916 - val_loss: 3.5878 - val_root_mean_squared_error: 1.8941 - 304ms/epoch - 1ms/step\n",
      "Epoch 31/200\n",
      "298/298 - 0s - loss: 4.3833 - root_mean_squared_error: 2.0936 - val_loss: 3.5394 - val_root_mean_squared_error: 1.8813 - 297ms/epoch - 998us/step\n",
      "Epoch 32/200\n",
      "298/298 - 0s - loss: 4.4944 - root_mean_squared_error: 2.1200 - val_loss: 3.5118 - val_root_mean_squared_error: 1.8740 - 304ms/epoch - 1ms/step\n",
      "Epoch 33/200\n",
      "298/298 - 0s - loss: 4.5192 - root_mean_squared_error: 2.1258 - val_loss: 3.5116 - val_root_mean_squared_error: 1.8739 - 309ms/epoch - 1ms/step\n",
      "Epoch 34/200\n",
      "298/298 - 0s - loss: 4.3909 - root_mean_squared_error: 2.0954 - val_loss: 3.5970 - val_root_mean_squared_error: 1.8966 - 307ms/epoch - 1ms/step\n",
      "Epoch 35/200\n",
      "298/298 - 0s - loss: 4.6854 - root_mean_squared_error: 2.1646 - val_loss: 3.4992 - val_root_mean_squared_error: 1.8706 - 296ms/epoch - 995us/step\n",
      "Epoch 36/200\n",
      "298/298 - 0s - loss: 4.3565 - root_mean_squared_error: 2.0872 - val_loss: 3.5376 - val_root_mean_squared_error: 1.8809 - 308ms/epoch - 1ms/step\n",
      "Epoch 37/200\n",
      "298/298 - 0s - loss: 4.4825 - root_mean_squared_error: 2.1172 - val_loss: 3.6152 - val_root_mean_squared_error: 1.9014 - 305ms/epoch - 1ms/step\n",
      "Epoch 38/200\n",
      "298/298 - 0s - loss: 4.7186 - root_mean_squared_error: 2.1722 - val_loss: 3.6083 - val_root_mean_squared_error: 1.8996 - 299ms/epoch - 1ms/step\n",
      "Epoch 39/200\n",
      "298/298 - 0s - loss: 4.3738 - root_mean_squared_error: 2.0914 - val_loss: 3.7630 - val_root_mean_squared_error: 1.9399 - 311ms/epoch - 1ms/step\n",
      "Epoch 40/200\n",
      "298/298 - 0s - loss: 4.4041 - root_mean_squared_error: 2.0986 - val_loss: 3.4521 - val_root_mean_squared_error: 1.8580 - 303ms/epoch - 1ms/step\n",
      "Epoch 41/200\n",
      "298/298 - 0s - loss: 4.5446 - root_mean_squared_error: 2.1318 - val_loss: 3.7576 - val_root_mean_squared_error: 1.9384 - 298ms/epoch - 1ms/step\n",
      "Epoch 42/200\n",
      "298/298 - 0s - loss: 4.3320 - root_mean_squared_error: 2.0814 - val_loss: 3.4970 - val_root_mean_squared_error: 1.8700 - 314ms/epoch - 1ms/step\n",
      "Epoch 43/200\n",
      "298/298 - 0s - loss: 4.3635 - root_mean_squared_error: 2.0889 - val_loss: 3.5518 - val_root_mean_squared_error: 1.8846 - 301ms/epoch - 1ms/step\n",
      "Epoch 44/200\n",
      "298/298 - 0s - loss: 4.3819 - root_mean_squared_error: 2.0933 - val_loss: 3.4945 - val_root_mean_squared_error: 1.8694 - 306ms/epoch - 1ms/step\n",
      "Epoch 45/200\n",
      "298/298 - 0s - loss: 4.4241 - root_mean_squared_error: 2.1034 - val_loss: 3.4130 - val_root_mean_squared_error: 1.8474 - 306ms/epoch - 1ms/step\n",
      "Epoch 46/200\n",
      "298/298 - 0s - loss: 4.5692 - root_mean_squared_error: 2.1376 - val_loss: 3.4987 - val_root_mean_squared_error: 1.8705 - 311ms/epoch - 1ms/step\n",
      "Epoch 47/200\n",
      "298/298 - 0s - loss: 4.5974 - root_mean_squared_error: 2.1442 - val_loss: 3.5087 - val_root_mean_squared_error: 1.8732 - 301ms/epoch - 1ms/step\n",
      "Epoch 48/200\n",
      "298/298 - 0s - loss: 4.3056 - root_mean_squared_error: 2.0750 - val_loss: 3.4754 - val_root_mean_squared_error: 1.8642 - 294ms/epoch - 986us/step\n",
      "Epoch 49/200\n",
      "298/298 - 0s - loss: 4.3857 - root_mean_squared_error: 2.0942 - val_loss: 3.4008 - val_root_mean_squared_error: 1.8441 - 300ms/epoch - 1ms/step\n",
      "Epoch 50/200\n",
      "298/298 - 0s - loss: 4.4512 - root_mean_squared_error: 2.1098 - val_loss: 3.4078 - val_root_mean_squared_error: 1.8460 - 297ms/epoch - 996us/step\n",
      "Epoch 51/200\n",
      "298/298 - 0s - loss: 4.3201 - root_mean_squared_error: 2.0785 - val_loss: 3.5015 - val_root_mean_squared_error: 1.8712 - 304ms/epoch - 1ms/step\n",
      "Epoch 52/200\n",
      "298/298 - 0s - loss: 4.4579 - root_mean_squared_error: 2.1114 - val_loss: 3.5160 - val_root_mean_squared_error: 1.8751 - 305ms/epoch - 1ms/step\n",
      "Epoch 53/200\n",
      "298/298 - 0s - loss: 4.5809 - root_mean_squared_error: 2.1403 - val_loss: 3.4610 - val_root_mean_squared_error: 1.8604 - 295ms/epoch - 991us/step\n",
      "Epoch 54/200\n",
      "298/298 - 0s - loss: 4.6479 - root_mean_squared_error: 2.1559 - val_loss: 3.5466 - val_root_mean_squared_error: 1.8832 - 308ms/epoch - 1ms/step\n",
      "Epoch 55/200\n",
      "298/298 - 0s - loss: 4.5485 - root_mean_squared_error: 2.1327 - val_loss: 3.4740 - val_root_mean_squared_error: 1.8639 - 311ms/epoch - 1ms/step\n",
      "Epoch 56/200\n",
      "298/298 - 0s - loss: 4.3265 - root_mean_squared_error: 2.0800 - val_loss: 3.4158 - val_root_mean_squared_error: 1.8482 - 312ms/epoch - 1ms/step\n",
      "Epoch 57/200\n",
      "298/298 - 0s - loss: 4.3984 - root_mean_squared_error: 2.0972 - val_loss: 3.4788 - val_root_mean_squared_error: 1.8651 - 317ms/epoch - 1ms/step\n",
      "Epoch 58/200\n",
      "298/298 - 0s - loss: 4.4783 - root_mean_squared_error: 2.1162 - val_loss: 3.4982 - val_root_mean_squared_error: 1.8704 - 295ms/epoch - 990us/step\n",
      "Epoch 59/200\n",
      "298/298 - 0s - loss: 4.4050 - root_mean_squared_error: 2.0988 - val_loss: 3.6289 - val_root_mean_squared_error: 1.9050 - 308ms/epoch - 1ms/step\n",
      "Epoch 60/200\n",
      "298/298 - 0s - loss: 4.3992 - root_mean_squared_error: 2.0974 - val_loss: 3.5537 - val_root_mean_squared_error: 1.8851 - 301ms/epoch - 1ms/step\n",
      "Epoch 61/200\n",
      "298/298 - 0s - loss: 4.3703 - root_mean_squared_error: 2.0905 - val_loss: 3.5554 - val_root_mean_squared_error: 1.8856 - 297ms/epoch - 998us/step\n",
      "Epoch 62/200\n",
      "298/298 - 0s - loss: 4.4950 - root_mean_squared_error: 2.1201 - val_loss: 3.5490 - val_root_mean_squared_error: 1.8839 - 302ms/epoch - 1ms/step\n",
      "Epoch 63/200\n",
      "298/298 - 0s - loss: 4.4226 - root_mean_squared_error: 2.1030 - val_loss: 3.4071 - val_root_mean_squared_error: 1.8458 - 299ms/epoch - 1ms/step\n",
      "Epoch 64/200\n",
      "298/298 - 0s - loss: 4.6066 - root_mean_squared_error: 2.1463 - val_loss: 3.4106 - val_root_mean_squared_error: 1.8468 - 292ms/epoch - 981us/step\n",
      "Epoch 65/200\n",
      "298/298 - 0s - loss: 4.4511 - root_mean_squared_error: 2.1098 - val_loss: 3.3782 - val_root_mean_squared_error: 1.8380 - 301ms/epoch - 1ms/step\n",
      "Epoch 66/200\n",
      "298/298 - 0s - loss: 4.4490 - root_mean_squared_error: 2.1093 - val_loss: 3.4313 - val_root_mean_squared_error: 1.8524 - 300ms/epoch - 1ms/step\n",
      "Epoch 67/200\n",
      "298/298 - 0s - loss: 4.4259 - root_mean_squared_error: 2.1038 - val_loss: 3.5954 - val_root_mean_squared_error: 1.8961 - 304ms/epoch - 1ms/step\n",
      "Epoch 68/200\n",
      "298/298 - 0s - loss: 4.3175 - root_mean_squared_error: 2.0779 - val_loss: 3.3458 - val_root_mean_squared_error: 1.8292 - 311ms/epoch - 1ms/step\n",
      "Epoch 69/200\n",
      "298/298 - 0s - loss: 4.4776 - root_mean_squared_error: 2.1160 - val_loss: 3.4923 - val_root_mean_squared_error: 1.8688 - 303ms/epoch - 1ms/step\n",
      "Epoch 70/200\n",
      "298/298 - 0s - loss: 4.2501 - root_mean_squared_error: 2.0616 - val_loss: 3.4889 - val_root_mean_squared_error: 1.8679 - 299ms/epoch - 1ms/step\n",
      "Epoch 71/200\n",
      "298/298 - 0s - loss: 4.3634 - root_mean_squared_error: 2.0889 - val_loss: 3.5542 - val_root_mean_squared_error: 1.8853 - 298ms/epoch - 999us/step\n",
      "Epoch 72/200\n",
      "298/298 - 0s - loss: 4.4176 - root_mean_squared_error: 2.1018 - val_loss: 3.5124 - val_root_mean_squared_error: 1.8741 - 306ms/epoch - 1ms/step\n",
      "Epoch 73/200\n",
      "298/298 - 0s - loss: 4.5610 - root_mean_squared_error: 2.1356 - val_loss: 3.4289 - val_root_mean_squared_error: 1.8517 - 299ms/epoch - 1ms/step\n",
      "Epoch 74/200\n",
      "298/298 - 0s - loss: 4.3737 - root_mean_squared_error: 2.0913 - val_loss: 3.3835 - val_root_mean_squared_error: 1.8394 - 298ms/epoch - 999us/step\n",
      "Epoch 75/200\n",
      "298/298 - 0s - loss: 4.4719 - root_mean_squared_error: 2.1147 - val_loss: 3.4318 - val_root_mean_squared_error: 1.8525 - 302ms/epoch - 1ms/step\n",
      "Epoch 76/200\n",
      "298/298 - 0s - loss: 4.4316 - root_mean_squared_error: 2.1051 - val_loss: 3.4207 - val_root_mean_squared_error: 1.8495 - 302ms/epoch - 1ms/step\n",
      "Epoch 77/200\n",
      "298/298 - 0s - loss: 4.3430 - root_mean_squared_error: 2.0840 - val_loss: 3.4576 - val_root_mean_squared_error: 1.8595 - 314ms/epoch - 1ms/step\n",
      "Epoch 78/200\n",
      "298/298 - 0s - loss: 4.3979 - root_mean_squared_error: 2.0971 - val_loss: 3.4558 - val_root_mean_squared_error: 1.8590 - 307ms/epoch - 1ms/step\n",
      "Epoch 79/200\n",
      "298/298 - 0s - loss: 4.4648 - root_mean_squared_error: 2.1130 - val_loss: 3.4266 - val_root_mean_squared_error: 1.8511 - 306ms/epoch - 1ms/step\n",
      "Epoch 80/200\n",
      "298/298 - 0s - loss: 4.4128 - root_mean_squared_error: 2.1007 - val_loss: 3.5145 - val_root_mean_squared_error: 1.8747 - 308ms/epoch - 1ms/step\n",
      "Epoch 81/200\n",
      "298/298 - 0s - loss: 4.3516 - root_mean_squared_error: 2.0860 - val_loss: 3.4033 - val_root_mean_squared_error: 1.8448 - 308ms/epoch - 1ms/step\n",
      "Epoch 82/200\n",
      "298/298 - 0s - loss: 4.1003 - root_mean_squared_error: 2.0249 - val_loss: 3.4000 - val_root_mean_squared_error: 1.8439 - 302ms/epoch - 1ms/step\n",
      "Epoch 83/200\n",
      "298/298 - 0s - loss: 4.3516 - root_mean_squared_error: 2.0860 - val_loss: 3.3847 - val_root_mean_squared_error: 1.8398 - 292ms/epoch - 981us/step\n",
      "Epoch 84/200\n",
      "298/298 - 0s - loss: 4.3276 - root_mean_squared_error: 2.0803 - val_loss: 3.5757 - val_root_mean_squared_error: 1.8910 - 304ms/epoch - 1ms/step\n",
      "Epoch 85/200\n",
      "298/298 - 0s - loss: 4.4634 - root_mean_squared_error: 2.1127 - val_loss: 3.5134 - val_root_mean_squared_error: 1.8744 - 307ms/epoch - 1ms/step\n",
      "Epoch 86/200\n",
      "298/298 - 0s - loss: 4.3497 - root_mean_squared_error: 2.0856 - val_loss: 3.3145 - val_root_mean_squared_error: 1.8206 - 306ms/epoch - 1ms/step\n",
      "Epoch 87/200\n",
      "298/298 - 0s - loss: 4.4303 - root_mean_squared_error: 2.1048 - val_loss: 3.4754 - val_root_mean_squared_error: 1.8642 - 303ms/epoch - 1ms/step\n",
      "Epoch 88/200\n",
      "298/298 - 0s - loss: 4.4649 - root_mean_squared_error: 2.1130 - val_loss: 3.4321 - val_root_mean_squared_error: 1.8526 - 308ms/epoch - 1ms/step\n",
      "Epoch 89/200\n",
      "298/298 - 0s - loss: 4.3146 - root_mean_squared_error: 2.0772 - val_loss: 3.3504 - val_root_mean_squared_error: 1.8304 - 293ms/epoch - 984us/step\n",
      "Epoch 90/200\n",
      "298/298 - 0s - loss: 4.4171 - root_mean_squared_error: 2.1017 - val_loss: 3.3148 - val_root_mean_squared_error: 1.8207 - 299ms/epoch - 1ms/step\n",
      "Epoch 91/200\n",
      "298/298 - 0s - loss: 4.4519 - root_mean_squared_error: 2.1100 - val_loss: 3.4885 - val_root_mean_squared_error: 1.8677 - 291ms/epoch - 977us/step\n",
      "Epoch 92/200\n",
      "298/298 - 0s - loss: 4.3594 - root_mean_squared_error: 2.0879 - val_loss: 3.4330 - val_root_mean_squared_error: 1.8528 - 303ms/epoch - 1ms/step\n",
      "Epoch 93/200\n",
      "298/298 - 0s - loss: 4.4226 - root_mean_squared_error: 2.1030 - val_loss: 3.4082 - val_root_mean_squared_error: 1.8461 - 292ms/epoch - 980us/step\n",
      "Epoch 94/200\n",
      "298/298 - 0s - loss: 4.5532 - root_mean_squared_error: 2.1338 - val_loss: 3.3913 - val_root_mean_squared_error: 1.8416 - 299ms/epoch - 1ms/step\n",
      "Epoch 95/200\n",
      "298/298 - 0s - loss: 4.5557 - root_mean_squared_error: 2.1344 - val_loss: 3.4267 - val_root_mean_squared_error: 1.8511 - 300ms/epoch - 1ms/step\n",
      "Epoch 96/200\n",
      "298/298 - 0s - loss: 4.4717 - root_mean_squared_error: 2.1146 - val_loss: 3.4272 - val_root_mean_squared_error: 1.8513 - 302ms/epoch - 1ms/step\n",
      "Epoch 97/200\n",
      "298/298 - 0s - loss: 4.3641 - root_mean_squared_error: 2.0891 - val_loss: 3.4131 - val_root_mean_squared_error: 1.8475 - 307ms/epoch - 1ms/step\n",
      "Epoch 98/200\n",
      "298/298 - 0s - loss: 4.4907 - root_mean_squared_error: 2.1191 - val_loss: 3.4443 - val_root_mean_squared_error: 1.8559 - 302ms/epoch - 1ms/step\n",
      "Epoch 99/200\n",
      "298/298 - 0s - loss: 4.2920 - root_mean_squared_error: 2.0717 - val_loss: 3.3661 - val_root_mean_squared_error: 1.8347 - 300ms/epoch - 1ms/step\n",
      "Epoch 100/200\n",
      "298/298 - 0s - loss: 4.3384 - root_mean_squared_error: 2.0829 - val_loss: 3.4670 - val_root_mean_squared_error: 1.8620 - 306ms/epoch - 1ms/step\n",
      "Epoch 101/200\n",
      "298/298 - 0s - loss: 4.4216 - root_mean_squared_error: 2.1028 - val_loss: 3.3910 - val_root_mean_squared_error: 1.8415 - 303ms/epoch - 1ms/step\n",
      "Epoch 102/200\n",
      "298/298 - 0s - loss: 4.3859 - root_mean_squared_error: 2.0943 - val_loss: 3.4448 - val_root_mean_squared_error: 1.8560 - 309ms/epoch - 1ms/step\n",
      "Epoch 103/200\n",
      "298/298 - 0s - loss: 4.5293 - root_mean_squared_error: 2.1282 - val_loss: 3.3172 - val_root_mean_squared_error: 1.8213 - 304ms/epoch - 1ms/step\n",
      "Epoch 104/200\n",
      "298/298 - 0s - loss: 4.3501 - root_mean_squared_error: 2.0857 - val_loss: 3.2796 - val_root_mean_squared_error: 1.8110 - 302ms/epoch - 1ms/step\n",
      "Epoch 105/200\n",
      "298/298 - 0s - loss: 4.3005 - root_mean_squared_error: 2.0738 - val_loss: 3.6649 - val_root_mean_squared_error: 1.9144 - 310ms/epoch - 1ms/step\n",
      "Epoch 106/200\n",
      "298/298 - 0s - loss: 4.4350 - root_mean_squared_error: 2.1059 - val_loss: 3.3404 - val_root_mean_squared_error: 1.8277 - 304ms/epoch - 1ms/step\n",
      "Epoch 107/200\n",
      "298/298 - 0s - loss: 4.3507 - root_mean_squared_error: 2.0858 - val_loss: 3.2989 - val_root_mean_squared_error: 1.8163 - 298ms/epoch - 999us/step\n",
      "Epoch 108/200\n",
      "298/298 - 0s - loss: 4.2067 - root_mean_squared_error: 2.0510 - val_loss: 3.3652 - val_root_mean_squared_error: 1.8345 - 300ms/epoch - 1ms/step\n",
      "Epoch 109/200\n",
      "298/298 - 0s - loss: 4.5363 - root_mean_squared_error: 2.1299 - val_loss: 3.3397 - val_root_mean_squared_error: 1.8275 - 304ms/epoch - 1ms/step\n",
      "Epoch 110/200\n",
      "298/298 - 0s - loss: 4.3271 - root_mean_squared_error: 2.0802 - val_loss: 3.3666 - val_root_mean_squared_error: 1.8348 - 301ms/epoch - 1ms/step\n",
      "Epoch 111/200\n",
      "298/298 - 0s - loss: 4.6646 - root_mean_squared_error: 2.1598 - val_loss: 3.4662 - val_root_mean_squared_error: 1.8618 - 298ms/epoch - 998us/step\n",
      "Epoch 112/200\n",
      "298/298 - 0s - loss: 4.3337 - root_mean_squared_error: 2.0817 - val_loss: 3.3650 - val_root_mean_squared_error: 1.8344 - 295ms/epoch - 990us/step\n",
      "Epoch 113/200\n",
      "298/298 - 0s - loss: 4.2640 - root_mean_squared_error: 2.0650 - val_loss: 3.9768 - val_root_mean_squared_error: 1.9942 - 295ms/epoch - 989us/step\n",
      "Epoch 114/200\n",
      "298/298 - 0s - loss: 4.3298 - root_mean_squared_error: 2.0808 - val_loss: 3.3410 - val_root_mean_squared_error: 1.8278 - 300ms/epoch - 1ms/step\n",
      "Epoch 115/200\n",
      "298/298 - 0s - loss: 4.2954 - root_mean_squared_error: 2.0725 - val_loss: 3.4298 - val_root_mean_squared_error: 1.8520 - 327ms/epoch - 1ms/step\n",
      "Epoch 116/200\n",
      "298/298 - 0s - loss: 4.3797 - root_mean_squared_error: 2.0928 - val_loss: 3.4152 - val_root_mean_squared_error: 1.8480 - 305ms/epoch - 1ms/step\n",
      "Epoch 117/200\n",
      "298/298 - 0s - loss: 4.2160 - root_mean_squared_error: 2.0533 - val_loss: 3.3252 - val_root_mean_squared_error: 1.8235 - 300ms/epoch - 1ms/step\n",
      "Epoch 118/200\n",
      "298/298 - 0s - loss: 4.3799 - root_mean_squared_error: 2.0928 - val_loss: 3.3234 - val_root_mean_squared_error: 1.8230 - 303ms/epoch - 1ms/step\n",
      "Epoch 119/200\n",
      "298/298 - 0s - loss: 4.3805 - root_mean_squared_error: 2.0930 - val_loss: 3.4794 - val_root_mean_squared_error: 1.8653 - 303ms/epoch - 1ms/step\n",
      "Epoch 120/200\n",
      "298/298 - 0s - loss: 4.3360 - root_mean_squared_error: 2.0823 - val_loss: 3.4221 - val_root_mean_squared_error: 1.8499 - 311ms/epoch - 1ms/step\n",
      "Epoch 121/200\n",
      "298/298 - 0s - loss: 4.2547 - root_mean_squared_error: 2.0627 - val_loss: 3.8379 - val_root_mean_squared_error: 1.9591 - 305ms/epoch - 1ms/step\n",
      "Epoch 122/200\n",
      "298/298 - 0s - loss: 4.5791 - root_mean_squared_error: 2.1399 - val_loss: 3.3881 - val_root_mean_squared_error: 1.8407 - 308ms/epoch - 1ms/step\n",
      "Epoch 123/200\n",
      "298/298 - 0s - loss: 4.4669 - root_mean_squared_error: 2.1135 - val_loss: 3.3386 - val_root_mean_squared_error: 1.8272 - 302ms/epoch - 1ms/step\n",
      "Epoch 124/200\n",
      "298/298 - 0s - loss: 4.4029 - root_mean_squared_error: 2.0983 - val_loss: 3.4626 - val_root_mean_squared_error: 1.8608 - 296ms/epoch - 994us/step\n",
      "Epoch 125/200\n",
      "298/298 - 0s - loss: 4.2722 - root_mean_squared_error: 2.0669 - val_loss: 3.3628 - val_root_mean_squared_error: 1.8338 - 302ms/epoch - 1ms/step\n",
      "Epoch 126/200\n",
      "298/298 - 0s - loss: 4.3784 - root_mean_squared_error: 2.0925 - val_loss: 3.3025 - val_root_mean_squared_error: 1.8173 - 308ms/epoch - 1ms/step\n",
      "Epoch 127/200\n",
      "298/298 - 0s - loss: 4.3226 - root_mean_squared_error: 2.0791 - val_loss: 3.2980 - val_root_mean_squared_error: 1.8160 - 312ms/epoch - 1ms/step\n",
      "Epoch 128/200\n",
      "298/298 - 0s - loss: 4.4621 - root_mean_squared_error: 2.1124 - val_loss: 3.5292 - val_root_mean_squared_error: 1.8786 - 311ms/epoch - 1ms/step\n",
      "Epoch 129/200\n",
      "298/298 - 0s - loss: 4.4798 - root_mean_squared_error: 2.1165 - val_loss: 3.3473 - val_root_mean_squared_error: 1.8296 - 307ms/epoch - 1ms/step\n",
      "Epoch 130/200\n",
      "298/298 - 0s - loss: 4.2909 - root_mean_squared_error: 2.0715 - val_loss: 3.3921 - val_root_mean_squared_error: 1.8418 - 294ms/epoch - 985us/step\n",
      "Epoch 131/200\n",
      "298/298 - 0s - loss: 4.3856 - root_mean_squared_error: 2.0942 - val_loss: 3.4229 - val_root_mean_squared_error: 1.8501 - 301ms/epoch - 1ms/step\n",
      "Epoch 132/200\n",
      "298/298 - 0s - loss: 4.2813 - root_mean_squared_error: 2.0691 - val_loss: 3.4900 - val_root_mean_squared_error: 1.8682 - 295ms/epoch - 989us/step\n",
      "Epoch 133/200\n",
      "298/298 - 0s - loss: 4.4503 - root_mean_squared_error: 2.1096 - val_loss: 3.3566 - val_root_mean_squared_error: 1.8321 - 302ms/epoch - 1ms/step\n",
      "Epoch 134/200\n",
      "298/298 - 0s - loss: 4.3208 - root_mean_squared_error: 2.0787 - val_loss: 3.6212 - val_root_mean_squared_error: 1.9029 - 314ms/epoch - 1ms/step\n",
      "Epoch 135/200\n",
      "298/298 - 0s - loss: 4.4779 - root_mean_squared_error: 2.1161 - val_loss: 3.3695 - val_root_mean_squared_error: 1.8356 - 300ms/epoch - 1ms/step\n",
      "Epoch 136/200\n",
      "298/298 - 0s - loss: 4.1924 - root_mean_squared_error: 2.0475 - val_loss: 3.5660 - val_root_mean_squared_error: 1.8884 - 300ms/epoch - 1ms/step\n",
      "Epoch 137/200\n",
      "298/298 - 0s - loss: 4.5140 - root_mean_squared_error: 2.1246 - val_loss: 3.3257 - val_root_mean_squared_error: 1.8236 - 301ms/epoch - 1ms/step\n",
      "Epoch 138/200\n",
      "298/298 - 0s - loss: 4.5518 - root_mean_squared_error: 2.1335 - val_loss: 3.4319 - val_root_mean_squared_error: 1.8525 - 307ms/epoch - 1ms/step\n",
      "Epoch 139/200\n",
      "298/298 - 0s - loss: 4.3423 - root_mean_squared_error: 2.0838 - val_loss: 3.2992 - val_root_mean_squared_error: 1.8164 - 307ms/epoch - 1ms/step\n",
      "Epoch 140/200\n",
      "298/298 - 0s - loss: 4.1684 - root_mean_squared_error: 2.0417 - val_loss: 3.3373 - val_root_mean_squared_error: 1.8268 - 301ms/epoch - 1ms/step\n",
      "Epoch 141/200\n",
      "298/298 - 0s - loss: 4.3615 - root_mean_squared_error: 2.0884 - val_loss: 3.2692 - val_root_mean_squared_error: 1.8081 - 302ms/epoch - 1ms/step\n",
      "Epoch 142/200\n",
      "298/298 - 0s - loss: 4.3935 - root_mean_squared_error: 2.0961 - val_loss: 3.8389 - val_root_mean_squared_error: 1.9593 - 305ms/epoch - 1ms/step\n",
      "Epoch 143/200\n",
      "298/298 - 0s - loss: 4.3592 - root_mean_squared_error: 2.0879 - val_loss: 3.2249 - val_root_mean_squared_error: 1.7958 - 298ms/epoch - 1ms/step\n",
      "Epoch 144/200\n",
      "298/298 - 0s - loss: 4.7140 - root_mean_squared_error: 2.1712 - val_loss: 3.3776 - val_root_mean_squared_error: 1.8378 - 307ms/epoch - 1ms/step\n",
      "Epoch 145/200\n",
      "298/298 - 0s - loss: 4.1896 - root_mean_squared_error: 2.0469 - val_loss: 3.3528 - val_root_mean_squared_error: 1.8311 - 295ms/epoch - 989us/step\n",
      "Epoch 146/200\n",
      "298/298 - 0s - loss: 4.3635 - root_mean_squared_error: 2.0889 - val_loss: 3.3198 - val_root_mean_squared_error: 1.8220 - 307ms/epoch - 1ms/step\n",
      "Epoch 147/200\n",
      "298/298 - 0s - loss: 4.1881 - root_mean_squared_error: 2.0465 - val_loss: 3.3749 - val_root_mean_squared_error: 1.8371 - 300ms/epoch - 1ms/step\n",
      "Epoch 148/200\n",
      "298/298 - 0s - loss: 4.3483 - root_mean_squared_error: 2.0852 - val_loss: 3.3009 - val_root_mean_squared_error: 1.8168 - 306ms/epoch - 1ms/step\n",
      "Epoch 149/200\n",
      "298/298 - 0s - loss: 4.4601 - root_mean_squared_error: 2.1119 - val_loss: 3.2912 - val_root_mean_squared_error: 1.8142 - 295ms/epoch - 990us/step\n",
      "Epoch 150/200\n",
      "298/298 - 0s - loss: 4.3363 - root_mean_squared_error: 2.0824 - val_loss: 3.3195 - val_root_mean_squared_error: 1.8219 - 297ms/epoch - 997us/step\n",
      "Epoch 151/200\n",
      "298/298 - 0s - loss: 4.4290 - root_mean_squared_error: 2.1045 - val_loss: 3.6152 - val_root_mean_squared_error: 1.9014 - 305ms/epoch - 1ms/step\n",
      "Epoch 152/200\n",
      "298/298 - 0s - loss: 4.5673 - root_mean_squared_error: 2.1371 - val_loss: 3.3481 - val_root_mean_squared_error: 1.8298 - 307ms/epoch - 1ms/step\n",
      "Epoch 153/200\n",
      "298/298 - 0s - loss: 4.3714 - root_mean_squared_error: 2.0908 - val_loss: 3.3891 - val_root_mean_squared_error: 1.8410 - 306ms/epoch - 1ms/step\n",
      "Epoch 154/200\n",
      "298/298 - 0s - loss: 4.3988 - root_mean_squared_error: 2.0973 - val_loss: 3.5045 - val_root_mean_squared_error: 1.8720 - 313ms/epoch - 1ms/step\n",
      "Epoch 155/200\n",
      "298/298 - 0s - loss: 4.4066 - root_mean_squared_error: 2.0992 - val_loss: 3.3891 - val_root_mean_squared_error: 1.8409 - 302ms/epoch - 1ms/step\n",
      "Epoch 156/200\n",
      "298/298 - 0s - loss: 4.3022 - root_mean_squared_error: 2.0742 - val_loss: 3.3704 - val_root_mean_squared_error: 1.8359 - 301ms/epoch - 1ms/step\n",
      "Epoch 157/200\n",
      "298/298 - 0s - loss: 4.5214 - root_mean_squared_error: 2.1264 - val_loss: 3.2913 - val_root_mean_squared_error: 1.8142 - 299ms/epoch - 1ms/step\n",
      "Epoch 158/200\n",
      "298/298 - 0s - loss: 4.3391 - root_mean_squared_error: 2.0830 - val_loss: 3.3809 - val_root_mean_squared_error: 1.8387 - 298ms/epoch - 1ms/step\n",
      "Epoch 159/200\n",
      "298/298 - 0s - loss: 4.4324 - root_mean_squared_error: 2.1053 - val_loss: 3.3380 - val_root_mean_squared_error: 1.8270 - 301ms/epoch - 1ms/step\n",
      "Epoch 160/200\n",
      "298/298 - 0s - loss: 4.2759 - root_mean_squared_error: 2.0678 - val_loss: 3.5497 - val_root_mean_squared_error: 1.8841 - 294ms/epoch - 988us/step\n",
      "Epoch 161/200\n",
      "298/298 - 0s - loss: 4.2140 - root_mean_squared_error: 2.0528 - val_loss: 3.3150 - val_root_mean_squared_error: 1.8207 - 310ms/epoch - 1ms/step\n",
      "Epoch 162/200\n",
      "298/298 - 0s - loss: 4.1500 - root_mean_squared_error: 2.0372 - val_loss: 3.2653 - val_root_mean_squared_error: 1.8070 - 302ms/epoch - 1ms/step\n",
      "Epoch 163/200\n",
      "298/298 - 0s - loss: 4.4164 - root_mean_squared_error: 2.1015 - val_loss: 3.2432 - val_root_mean_squared_error: 1.8009 - 304ms/epoch - 1ms/step\n",
      "Epoch 164/200\n",
      "298/298 - 0s - loss: 4.3873 - root_mean_squared_error: 2.0946 - val_loss: 3.2735 - val_root_mean_squared_error: 1.8093 - 306ms/epoch - 1ms/step\n",
      "Epoch 165/200\n",
      "298/298 - 0s - loss: 4.3220 - root_mean_squared_error: 2.0789 - val_loss: 3.3049 - val_root_mean_squared_error: 1.8179 - 312ms/epoch - 1ms/step\n",
      "Epoch 166/200\n",
      "298/298 - 0s - loss: 4.2859 - root_mean_squared_error: 2.0703 - val_loss: 3.5372 - val_root_mean_squared_error: 1.8807 - 303ms/epoch - 1ms/step\n",
      "Epoch 167/200\n",
      "298/298 - 0s - loss: 4.3506 - root_mean_squared_error: 2.0858 - val_loss: 3.3044 - val_root_mean_squared_error: 1.8178 - 309ms/epoch - 1ms/step\n",
      "Epoch 168/200\n",
      "298/298 - 0s - loss: 4.3258 - root_mean_squared_error: 2.0799 - val_loss: 3.3566 - val_root_mean_squared_error: 1.8321 - 296ms/epoch - 994us/step\n",
      "Epoch 169/200\n",
      "298/298 - 0s - loss: 4.3537 - root_mean_squared_error: 2.0866 - val_loss: 3.3305 - val_root_mean_squared_error: 1.8250 - 298ms/epoch - 1ms/step\n",
      "Epoch 170/200\n",
      "298/298 - 0s - loss: 4.3420 - root_mean_squared_error: 2.0837 - val_loss: 3.3172 - val_root_mean_squared_error: 1.8213 - 308ms/epoch - 1ms/step\n",
      "Epoch 171/200\n",
      "298/298 - 0s - loss: 4.2125 - root_mean_squared_error: 2.0524 - val_loss: 3.2902 - val_root_mean_squared_error: 1.8139 - 299ms/epoch - 1ms/step\n",
      "Epoch 172/200\n",
      "298/298 - 0s - loss: 4.0966 - root_mean_squared_error: 2.0240 - val_loss: 3.2823 - val_root_mean_squared_error: 1.8117 - 295ms/epoch - 989us/step\n",
      "Epoch 173/200\n",
      "298/298 - 0s - loss: 4.3094 - root_mean_squared_error: 2.0759 - val_loss: 3.3502 - val_root_mean_squared_error: 1.8303 - 297ms/epoch - 996us/step\n",
      "Epoch 174/200\n",
      "298/298 - 0s - loss: 4.2867 - root_mean_squared_error: 2.0704 - val_loss: 3.6028 - val_root_mean_squared_error: 1.8981 - 305ms/epoch - 1ms/step\n",
      "Epoch 175/200\n",
      "298/298 - 0s - loss: 4.0782 - root_mean_squared_error: 2.0195 - val_loss: 3.5068 - val_root_mean_squared_error: 1.8726 - 305ms/epoch - 1ms/step\n",
      "Epoch 176/200\n",
      "298/298 - 0s - loss: 4.5066 - root_mean_squared_error: 2.1229 - val_loss: 3.3550 - val_root_mean_squared_error: 1.8317 - 291ms/epoch - 975us/step\n",
      "Epoch 177/200\n",
      "298/298 - 0s - loss: 4.2319 - root_mean_squared_error: 2.0572 - val_loss: 3.3083 - val_root_mean_squared_error: 1.8189 - 301ms/epoch - 1ms/step\n",
      "Epoch 178/200\n",
      "298/298 - 0s - loss: 4.4476 - root_mean_squared_error: 2.1089 - val_loss: 3.3467 - val_root_mean_squared_error: 1.8294 - 307ms/epoch - 1ms/step\n",
      "Epoch 179/200\n",
      "298/298 - 0s - loss: 4.2632 - root_mean_squared_error: 2.0647 - val_loss: 3.3775 - val_root_mean_squared_error: 1.8378 - 306ms/epoch - 1ms/step\n",
      "Epoch 180/200\n",
      "298/298 - 0s - loss: 4.3475 - root_mean_squared_error: 2.0851 - val_loss: 3.4532 - val_root_mean_squared_error: 1.8583 - 298ms/epoch - 1000us/step\n",
      "Epoch 181/200\n",
      "298/298 - 0s - loss: 4.3045 - root_mean_squared_error: 2.0747 - val_loss: 3.3478 - val_root_mean_squared_error: 1.8297 - 303ms/epoch - 1ms/step\n",
      "Epoch 182/200\n",
      "298/298 - 0s - loss: 4.2214 - root_mean_squared_error: 2.0546 - val_loss: 3.3548 - val_root_mean_squared_error: 1.8316 - 302ms/epoch - 1ms/step\n",
      "Epoch 183/200\n",
      "298/298 - 0s - loss: 4.3691 - root_mean_squared_error: 2.0902 - val_loss: 3.3949 - val_root_mean_squared_error: 1.8425 - 301ms/epoch - 1ms/step\n",
      "Epoch 184/200\n",
      "298/298 - 0s - loss: 4.2908 - root_mean_squared_error: 2.0714 - val_loss: 3.3261 - val_root_mean_squared_error: 1.8238 - 302ms/epoch - 1ms/step\n",
      "Epoch 185/200\n",
      "298/298 - 0s - loss: 4.3965 - root_mean_squared_error: 2.0968 - val_loss: 3.2463 - val_root_mean_squared_error: 1.8017 - 296ms/epoch - 993us/step\n",
      "Epoch 186/200\n",
      "298/298 - 0s - loss: 4.2167 - root_mean_squared_error: 2.0535 - val_loss: 3.2545 - val_root_mean_squared_error: 1.8040 - 303ms/epoch - 1ms/step\n",
      "Epoch 187/200\n",
      "298/298 - 0s - loss: 4.3292 - root_mean_squared_error: 2.0807 - val_loss: 3.3090 - val_root_mean_squared_error: 1.8191 - 300ms/epoch - 1ms/step\n",
      "Epoch 188/200\n",
      "298/298 - 0s - loss: 4.1961 - root_mean_squared_error: 2.0484 - val_loss: 3.3208 - val_root_mean_squared_error: 1.8223 - 302ms/epoch - 1ms/step\n",
      "Epoch 189/200\n",
      "298/298 - 0s - loss: 4.6155 - root_mean_squared_error: 2.1484 - val_loss: 3.3595 - val_root_mean_squared_error: 1.8329 - 299ms/epoch - 1ms/step\n",
      "Epoch 190/200\n",
      "298/298 - 0s - loss: 4.4295 - root_mean_squared_error: 2.1046 - val_loss: 3.3552 - val_root_mean_squared_error: 1.8317 - 297ms/epoch - 998us/step\n",
      "Epoch 191/200\n",
      "298/298 - 0s - loss: 4.1808 - root_mean_squared_error: 2.0447 - val_loss: 3.1968 - val_root_mean_squared_error: 1.7880 - 300ms/epoch - 1ms/step\n",
      "Epoch 192/200\n",
      "298/298 - 0s - loss: 4.3769 - root_mean_squared_error: 2.0921 - val_loss: 3.3415 - val_root_mean_squared_error: 1.8280 - 303ms/epoch - 1ms/step\n",
      "Epoch 193/200\n",
      "298/298 - 0s - loss: 4.2277 - root_mean_squared_error: 2.0561 - val_loss: 3.4182 - val_root_mean_squared_error: 1.8488 - 303ms/epoch - 1ms/step\n",
      "Epoch 194/200\n",
      "298/298 - 0s - loss: 4.1388 - root_mean_squared_error: 2.0344 - val_loss: 3.2535 - val_root_mean_squared_error: 1.8037 - 304ms/epoch - 1ms/step\n",
      "Epoch 195/200\n",
      "298/298 - 0s - loss: 4.2732 - root_mean_squared_error: 2.0672 - val_loss: 3.3654 - val_root_mean_squared_error: 1.8345 - 307ms/epoch - 1ms/step\n",
      "Epoch 196/200\n",
      "298/298 - 0s - loss: 4.3815 - root_mean_squared_error: 2.0932 - val_loss: 3.3233 - val_root_mean_squared_error: 1.8230 - 311ms/epoch - 1ms/step\n",
      "Epoch 197/200\n",
      "298/298 - 0s - loss: 4.1351 - root_mean_squared_error: 2.0335 - val_loss: 3.2706 - val_root_mean_squared_error: 1.8085 - 306ms/epoch - 1ms/step\n",
      "Epoch 198/200\n",
      "298/298 - 0s - loss: 4.3036 - root_mean_squared_error: 2.0745 - val_loss: 3.3660 - val_root_mean_squared_error: 1.8347 - 311ms/epoch - 1ms/step\n",
      "Epoch 199/200\n",
      "298/298 - 0s - loss: 4.3588 - root_mean_squared_error: 2.0878 - val_loss: 3.3026 - val_root_mean_squared_error: 1.8173 - 301ms/epoch - 1ms/step\n",
      "Epoch 200/200\n",
      "298/298 - 0s - loss: 4.3278 - root_mean_squared_error: 2.0803 - val_loss: 3.2677 - val_root_mean_squared_error: 1.8077 - 304ms/epoch - 1ms/step\n"
     ]
    }
   ],
   "source": [
    "history = model.fit(x_train, y_train,\n",
    "                    batch_size = 8,\n",
    "                    epochs = 200,\n",
    "                    validation_data=(x_val, y_val),\n",
    "                    callbacks=[earlystopper],\n",
    "                    verbose = 2)"
   ]
  },
  {
   "cell_type": "code",
   "execution_count": 15,
   "id": "eb4ecdf4-8e5f-455c-bd8b-f3c95bed79b6",
   "metadata": {},
   "outputs": [
    {
     "ename": "AttributeError",
     "evalue": "'KerasRegressor' object has no attribute 'history'",
     "output_type": "error",
     "traceback": [
      "\u001b[0;31m---------------------------------------------------------------------------\u001b[0m",
      "\u001b[0;31mAttributeError\u001b[0m                            Traceback (most recent call last)",
      "Cell \u001b[0;32mIn[15], line 1\u001b[0m\n\u001b[0;32m----> 1\u001b[0m \u001b[43mplot_history\u001b[49m\u001b[43m(\u001b[49m\u001b[38;5;124;43m'\u001b[39;49m\u001b[38;5;124;43mroot_mean_squared_error\u001b[39;49m\u001b[38;5;124;43m'\u001b[39;49m\u001b[43m)\u001b[49m\n",
      "Cell \u001b[0;32mIn[5], line 5\u001b[0m, in \u001b[0;36mplot_history\u001b[0;34m(metrics)\u001b[0m\n\u001b[1;32m      4\u001b[0m \u001b[38;5;28;01mdef\u001b[39;00m \u001b[38;5;21mplot_history\u001b[39m(metrics):\n\u001b[0;32m----> 5\u001b[0m     history_df \u001b[38;5;241m=\u001b[39m pd\u001b[38;5;241m.\u001b[39mDataFrame\u001b[38;5;241m.\u001b[39mfrom_dict(\u001b[43mhistory\u001b[49m\u001b[38;5;241;43m.\u001b[39;49m\u001b[43mhistory\u001b[49m)\n\u001b[1;32m      6\u001b[0m     sns\u001b[38;5;241m.\u001b[39mlineplot(data\u001b[38;5;241m=\u001b[39mhistory_df[metrics])\n\u001b[1;32m      7\u001b[0m     plt\u001b[38;5;241m.\u001b[39mxlabel(\u001b[38;5;124m\"\u001b[39m\u001b[38;5;124mepochs\u001b[39m\u001b[38;5;124m\"\u001b[39m)\n",
      "\u001b[0;31mAttributeError\u001b[0m: 'KerasRegressor' object has no attribute 'history'"
     ]
    }
   ],
   "source": [
    "plot_history('root_mean_squared_error')"
   ]
  },
  {
   "cell_type": "code",
   "execution_count": null,
   "id": "b93ea011-0cc8-4cbd-8983-02b0f38d14ef",
   "metadata": {},
   "outputs": [],
   "source": [
    "y_train_predicted = model.predict(x_train)\n",
    "y_test_predicted = model.predict(x_test)"
   ]
  },
  {
   "cell_type": "code",
   "execution_count": null,
   "id": "fd112bbb-dbca-4e9d-8404-498bfd9696aa",
   "metadata": {},
   "outputs": [],
   "source": [
    "def plot_predictions(y_pred, y_true, title):\n",
    "    plt.style.use('ggplot') \n",
    "    plt.scatter(y_pred, y_true, s=10, alpha=0.5)\n",
    "    plt.xlabel(\"predicted\")\n",
    "    plt.ylabel(\"true\")\n",
    "    plt.title(title)\n",
    "   \n",
    "\n",
    "plot_predictions(y_train_predicted, y_train, title='Predictions on the training set')"
   ]
  },
  {
   "cell_type": "code",
   "execution_count": null,
   "id": "b50e5ed8-996e-4655-abe0-7896245e558e",
   "metadata": {},
   "outputs": [],
   "source": [
    "plot_predictions(y_test_predicted, y_test, title='Predictions on the test set')"
   ]
  },
  {
   "cell_type": "code",
   "execution_count": null,
   "id": "e5c4aa6d-0fd7-4d29-a342-4d173ee15b21",
   "metadata": {},
   "outputs": [],
   "source": [
    "train_metrics = model.evaluate(x_train, y_train, return_dict=True)\n",
    "test_metrics = model.evaluate(x_test, y_test, return_dict=True)\n",
    "print('Train RMSE: {:.2f}, Test RMSE: {:.2f}'.format(train_metrics['root_mean_squared_error'], test_metrics['root_mean_squared_error']))\n"
   ]
  },
  {
   "cell_type": "code",
   "execution_count": null,
   "id": "5f70656a-a220-4133-8035-90a76daa2b3f",
   "metadata": {},
   "outputs": [],
   "source": [
    "x_test"
   ]
  },
  {
   "cell_type": "code",
   "execution_count": null,
   "id": "b6ce6030-bfb1-4543-8855-a88fcda8a9f8",
   "metadata": {},
   "outputs": [],
   "source": [
    "plot_history(['root_mean_squared_error', 'val_root_mean_squared_error'])\n"
   ]
  },
  {
   "cell_type": "code",
   "execution_count": null,
   "id": "976640ff-a05f-4823-b6e6-cb0390e7e2b8",
   "metadata": {},
   "outputs": [],
   "source": []
  },
  {
   "cell_type": "code",
   "execution_count": null,
   "id": "683d786a-39da-4bb7-bb55-7904d6d88b89",
   "metadata": {},
   "outputs": [],
   "source": []
  },
  {
   "cell_type": "code",
   "execution_count": null,
   "id": "75ed12c8-2719-4db4-bbd9-65e5560a9e2f",
   "metadata": {},
   "outputs": [],
   "source": []
  }
 ],
 "metadata": {
  "kernelspec": {
   "display_name": "My Kernel",
   "language": "python",
   "name": "my-kernel"
  },
  "language_info": {
   "codemirror_mode": {
    "name": "ipython",
    "version": 3
   },
   "file_extension": ".py",
   "mimetype": "text/x-python",
   "name": "python",
   "nbconvert_exporter": "python",
   "pygments_lexer": "ipython3",
   "version": "3.11.3"
  }
 },
 "nbformat": 4,
 "nbformat_minor": 5
}
